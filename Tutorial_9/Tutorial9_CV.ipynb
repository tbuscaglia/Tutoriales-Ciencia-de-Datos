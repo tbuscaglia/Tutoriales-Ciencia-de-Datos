{
 "cells": [
  {
   "cell_type": "markdown",
   "metadata": {
    "id": "_m3CnbNMV2Cp"
   },
   "source": [
    "# Tutorial de Ciencia de Datos (UdeSA) 2025\n",
    "## Tutorial 9 \n",
    "### Cross-validation\n",
    "\n",
    "\n",
    "**Objetivo:** \n",
    "Que se familiaricen con la técnica de K-fold Cross Validation\n"
   ]
  },
  {
   "cell_type": "code",
   "execution_count": 43,
   "metadata": {
    "id": "BoSQOK1iV2Cs"
   },
   "outputs": [],
   "source": [
    "import pandas as pd\n",
    "import numpy as np\n",
    "from scipy import stats\n",
    "from ISLP import load_data\n",
    "\n",
    "from matplotlib import pyplot as plt\n",
    "\n",
    "from sklearn.model_selection import train_test_split\n",
    "from sklearn.linear_model import LinearRegression\n",
    "from sklearn.preprocessing import PolynomialFeatures \n",
    "from sklearn.metrics import mean_squared_error\n",
    "from sklearn.metrics import r2_score"
   ]
  },
  {
   "cell_type": "markdown",
   "metadata": {},
   "source": [
    "Vamos a trabajar con la base `Auto` de [ISLP](https://islp.readthedocs.io/en/latest/datasets/Auto.html).\n",
    "\n",
    "Tiene información para 392 vehículos. Kilometraje de gasolina, caballos de fuerza El dataset tiene las siguiente variables:\n",
    "- mpg: millas por galón\n",
    "- cylinders: Número de cilindros entre 4 y 8\n",
    "- displacement: Cilindrada o desplazamiento del motor (pulgadas cúbicas)\n",
    "- horsepower: Caballos del motor\n",
    "- weight: Peso del vehículo (libras)\n",
    "- acceleration: Tiempo de aceleración de 0 a 100 km/h (seg.)\n",
    "- year: Año del modelo (módulo 100)\n",
    "- origin: Origen del vehículo (1. Americano, 2. Europeo, 3. Japonés)\n",
    "- name: Nombre del vehículo\n"
   ]
  },
  {
   "cell_type": "code",
   "execution_count": 44,
   "metadata": {},
   "outputs": [
    {
     "name": "stdout",
     "output_type": "stream",
     "text": [
      "Dimensión del dataframe: (392, 8)\n",
      "<class 'pandas.core.frame.DataFrame'>\n",
      "Index: 392 entries, chevrolet chevelle malibu to chevy s-10\n",
      "Data columns (total 8 columns):\n",
      " #   Column        Non-Null Count  Dtype  \n",
      "---  ------        --------------  -----  \n",
      " 0   mpg           392 non-null    float64\n",
      " 1   cylinders     392 non-null    int64  \n",
      " 2   displacement  392 non-null    float64\n",
      " 3   horsepower    392 non-null    int64  \n",
      " 4   weight        392 non-null    int64  \n",
      " 5   acceleration  392 non-null    float64\n",
      " 6   year          392 non-null    int64  \n",
      " 7   origin        392 non-null    int64  \n",
      "dtypes: float64(3), int64(5)\n",
      "memory usage: 27.6+ KB\n",
      "None\n"
     ]
    },
    {
     "data": {
      "text/html": [
       "<div>\n",
       "<style scoped>\n",
       "    .dataframe tbody tr th:only-of-type {\n",
       "        vertical-align: middle;\n",
       "    }\n",
       "\n",
       "    .dataframe tbody tr th {\n",
       "        vertical-align: top;\n",
       "    }\n",
       "\n",
       "    .dataframe thead th {\n",
       "        text-align: right;\n",
       "    }\n",
       "</style>\n",
       "<table border=\"1\" class=\"dataframe\">\n",
       "  <thead>\n",
       "    <tr style=\"text-align: right;\">\n",
       "      <th></th>\n",
       "      <th>mpg</th>\n",
       "      <th>cylinders</th>\n",
       "      <th>displacement</th>\n",
       "      <th>horsepower</th>\n",
       "      <th>weight</th>\n",
       "      <th>acceleration</th>\n",
       "      <th>year</th>\n",
       "      <th>origin</th>\n",
       "    </tr>\n",
       "    <tr>\n",
       "      <th>name</th>\n",
       "      <th></th>\n",
       "      <th></th>\n",
       "      <th></th>\n",
       "      <th></th>\n",
       "      <th></th>\n",
       "      <th></th>\n",
       "      <th></th>\n",
       "      <th></th>\n",
       "    </tr>\n",
       "  </thead>\n",
       "  <tbody>\n",
       "    <tr>\n",
       "      <th>chevrolet chevelle malibu</th>\n",
       "      <td>18.00</td>\n",
       "      <td>8</td>\n",
       "      <td>307.00</td>\n",
       "      <td>130</td>\n",
       "      <td>3504</td>\n",
       "      <td>12.00</td>\n",
       "      <td>70</td>\n",
       "      <td>1</td>\n",
       "    </tr>\n",
       "    <tr>\n",
       "      <th>buick skylark 320</th>\n",
       "      <td>15.00</td>\n",
       "      <td>8</td>\n",
       "      <td>350.00</td>\n",
       "      <td>165</td>\n",
       "      <td>3693</td>\n",
       "      <td>11.50</td>\n",
       "      <td>70</td>\n",
       "      <td>1</td>\n",
       "    </tr>\n",
       "    <tr>\n",
       "      <th>plymouth satellite</th>\n",
       "      <td>18.00</td>\n",
       "      <td>8</td>\n",
       "      <td>318.00</td>\n",
       "      <td>150</td>\n",
       "      <td>3436</td>\n",
       "      <td>11.00</td>\n",
       "      <td>70</td>\n",
       "      <td>1</td>\n",
       "    </tr>\n",
       "    <tr>\n",
       "      <th>amc rebel sst</th>\n",
       "      <td>16.00</td>\n",
       "      <td>8</td>\n",
       "      <td>304.00</td>\n",
       "      <td>150</td>\n",
       "      <td>3433</td>\n",
       "      <td>12.00</td>\n",
       "      <td>70</td>\n",
       "      <td>1</td>\n",
       "    </tr>\n",
       "    <tr>\n",
       "      <th>ford torino</th>\n",
       "      <td>17.00</td>\n",
       "      <td>8</td>\n",
       "      <td>302.00</td>\n",
       "      <td>140</td>\n",
       "      <td>3449</td>\n",
       "      <td>10.50</td>\n",
       "      <td>70</td>\n",
       "      <td>1</td>\n",
       "    </tr>\n",
       "  </tbody>\n",
       "</table>\n",
       "</div>"
      ],
      "text/plain": [
       "                            mpg  cylinders  displacement  horsepower  weight  \\\n",
       "name                                                                           \n",
       "chevrolet chevelle malibu 18.00          8        307.00         130    3504   \n",
       "buick skylark 320         15.00          8        350.00         165    3693   \n",
       "plymouth satellite        18.00          8        318.00         150    3436   \n",
       "amc rebel sst             16.00          8        304.00         150    3433   \n",
       "ford torino               17.00          8        302.00         140    3449   \n",
       "\n",
       "                           acceleration  year  origin  \n",
       "name                                                   \n",
       "chevrolet chevelle malibu         12.00    70       1  \n",
       "buick skylark 320                 11.50    70       1  \n",
       "plymouth satellite                11.00    70       1  \n",
       "amc rebel sst                     12.00    70       1  \n",
       "ford torino                       10.50    70       1  "
      ]
     },
     "execution_count": 44,
     "metadata": {},
     "output_type": "execute_result"
    }
   ],
   "source": [
    "auto = load_data(\"Auto\")\n",
    "\n",
    "# Dimensión de la base\n",
    "print(\"Dimensión del dataframe:\", auto.shape)\n",
    "\n",
    "# Variables e información\n",
    "#print(auto.dtypes)\n",
    "print(auto.info())\n",
    "\n",
    "auto.head()"
   ]
  },
  {
   "cell_type": "code",
   "execution_count": 45,
   "metadata": {},
   "outputs": [
    {
     "name": "stdout",
     "output_type": "stream",
     "text": [
      "Duplicados: 0\n",
      "\n",
      " Missings:\n",
      " mpg             0\n",
      "cylinders       0\n",
      "displacement    0\n",
      "horsepower      0\n",
      "weight          0\n",
      "acceleration    0\n",
      "year            0\n",
      "origin          0\n",
      "dtype: int64\n"
     ]
    }
   ],
   "source": [
    "# Hay duplicados?\n",
    "print(\"Duplicados:\", auto.duplicated().sum())\n",
    "\n",
    "# Hay valores faltantes?\n",
    "print(\"\\n Missings:\\n\", auto.isnull().sum()) # conteo\n",
    "#print(auto.isnull().mean() * 100) # como porcentaje\n",
    "\n",
    "# No hay duplicados ni missing values"
   ]
  },
  {
   "cell_type": "code",
   "execution_count": 46,
   "metadata": {},
   "outputs": [
    {
     "data": {
      "text/html": [
       "<div>\n",
       "<style scoped>\n",
       "    .dataframe tbody tr th:only-of-type {\n",
       "        vertical-align: middle;\n",
       "    }\n",
       "\n",
       "    .dataframe tbody tr th {\n",
       "        vertical-align: top;\n",
       "    }\n",
       "\n",
       "    .dataframe thead th {\n",
       "        text-align: right;\n",
       "    }\n",
       "</style>\n",
       "<table border=\"1\" class=\"dataframe\">\n",
       "  <thead>\n",
       "    <tr style=\"text-align: right;\">\n",
       "      <th></th>\n",
       "      <th>mpg</th>\n",
       "      <th>cylinders</th>\n",
       "      <th>displacement</th>\n",
       "      <th>horsepower</th>\n",
       "      <th>weight</th>\n",
       "      <th>acceleration</th>\n",
       "      <th>year</th>\n",
       "      <th>origin</th>\n",
       "    </tr>\n",
       "  </thead>\n",
       "  <tbody>\n",
       "    <tr>\n",
       "      <th>count</th>\n",
       "      <td>392.00</td>\n",
       "      <td>392.00</td>\n",
       "      <td>392.00</td>\n",
       "      <td>392.00</td>\n",
       "      <td>392.00</td>\n",
       "      <td>392.00</td>\n",
       "      <td>392.00</td>\n",
       "      <td>392.00</td>\n",
       "    </tr>\n",
       "    <tr>\n",
       "      <th>mean</th>\n",
       "      <td>23.45</td>\n",
       "      <td>5.47</td>\n",
       "      <td>194.41</td>\n",
       "      <td>104.47</td>\n",
       "      <td>2977.58</td>\n",
       "      <td>15.54</td>\n",
       "      <td>75.98</td>\n",
       "      <td>1.58</td>\n",
       "    </tr>\n",
       "    <tr>\n",
       "      <th>std</th>\n",
       "      <td>7.81</td>\n",
       "      <td>1.71</td>\n",
       "      <td>104.64</td>\n",
       "      <td>38.49</td>\n",
       "      <td>849.40</td>\n",
       "      <td>2.76</td>\n",
       "      <td>3.68</td>\n",
       "      <td>0.81</td>\n",
       "    </tr>\n",
       "    <tr>\n",
       "      <th>min</th>\n",
       "      <td>9.00</td>\n",
       "      <td>3.00</td>\n",
       "      <td>68.00</td>\n",
       "      <td>46.00</td>\n",
       "      <td>1613.00</td>\n",
       "      <td>8.00</td>\n",
       "      <td>70.00</td>\n",
       "      <td>1.00</td>\n",
       "    </tr>\n",
       "    <tr>\n",
       "      <th>25%</th>\n",
       "      <td>17.00</td>\n",
       "      <td>4.00</td>\n",
       "      <td>105.00</td>\n",
       "      <td>75.00</td>\n",
       "      <td>2225.25</td>\n",
       "      <td>13.78</td>\n",
       "      <td>73.00</td>\n",
       "      <td>1.00</td>\n",
       "    </tr>\n",
       "    <tr>\n",
       "      <th>50%</th>\n",
       "      <td>22.75</td>\n",
       "      <td>4.00</td>\n",
       "      <td>151.00</td>\n",
       "      <td>93.50</td>\n",
       "      <td>2803.50</td>\n",
       "      <td>15.50</td>\n",
       "      <td>76.00</td>\n",
       "      <td>1.00</td>\n",
       "    </tr>\n",
       "    <tr>\n",
       "      <th>75%</th>\n",
       "      <td>29.00</td>\n",
       "      <td>8.00</td>\n",
       "      <td>275.75</td>\n",
       "      <td>126.00</td>\n",
       "      <td>3614.75</td>\n",
       "      <td>17.02</td>\n",
       "      <td>79.00</td>\n",
       "      <td>2.00</td>\n",
       "    </tr>\n",
       "    <tr>\n",
       "      <th>max</th>\n",
       "      <td>46.60</td>\n",
       "      <td>8.00</td>\n",
       "      <td>455.00</td>\n",
       "      <td>230.00</td>\n",
       "      <td>5140.00</td>\n",
       "      <td>24.80</td>\n",
       "      <td>82.00</td>\n",
       "      <td>3.00</td>\n",
       "    </tr>\n",
       "  </tbody>\n",
       "</table>\n",
       "</div>"
      ],
      "text/plain": [
       "         mpg  cylinders  displacement  horsepower  weight  acceleration  \\\n",
       "count 392.00     392.00        392.00      392.00  392.00        392.00   \n",
       "mean   23.45       5.47        194.41      104.47 2977.58         15.54   \n",
       "std     7.81       1.71        104.64       38.49  849.40          2.76   \n",
       "min     9.00       3.00         68.00       46.00 1613.00          8.00   \n",
       "25%    17.00       4.00        105.00       75.00 2225.25         13.78   \n",
       "50%    22.75       4.00        151.00       93.50 2803.50         15.50   \n",
       "75%    29.00       8.00        275.75      126.00 3614.75         17.02   \n",
       "max    46.60       8.00        455.00      230.00 5140.00         24.80   \n",
       "\n",
       "        year  origin  \n",
       "count 392.00  392.00  \n",
       "mean   75.98    1.58  \n",
       "std     3.68    0.81  \n",
       "min    70.00    1.00  \n",
       "25%    73.00    1.00  \n",
       "50%    76.00    1.00  \n",
       "75%    79.00    2.00  \n",
       "max    82.00    3.00  "
      ]
     },
     "execution_count": 46,
     "metadata": {},
     "output_type": "execute_result"
    }
   ],
   "source": [
    "# Le cambiamos el formato a la salida de la estadistica descriptiva \n",
    "pd.set_option('display.float_format', lambda x: '%.2f' % x) # prueben con '%.5f', como luce?\n",
    "\n",
    "# Inspección rápida de las variables y sus valores\n",
    "auto.describe()"
   ]
  },
  {
   "cell_type": "code",
   "execution_count": 47,
   "metadata": {},
   "outputs": [
    {
     "data": {
      "text/plain": [
       "origin\n",
       "1    245\n",
       "3     79\n",
       "2     68\n",
       "Name: count, dtype: int64"
      ]
     },
     "execution_count": 47,
     "metadata": {},
     "output_type": "execute_result"
    }
   ],
   "source": [
    "# Recordamos que la variable \"origin\" es categorica. \n",
    "# Origin: Origen del vehículo (1. Americano, 2. Europeo, 3. Japonés)\n",
    "auto[\"origin\"].value_counts()"
   ]
  },
  {
   "cell_type": "markdown",
   "metadata": {},
   "source": [
    "Creamos dummies (variables categóricas binarias) con la función de pandas [get_dummies()](https://pandas.pydata.org/docs/reference/api/pandas.get_dummies.html) "
   ]
  },
  {
   "cell_type": "code",
   "execution_count": 48,
   "metadata": {},
   "outputs": [
    {
     "data": {
      "text/html": [
       "<div>\n",
       "<style scoped>\n",
       "    .dataframe tbody tr th:only-of-type {\n",
       "        vertical-align: middle;\n",
       "    }\n",
       "\n",
       "    .dataframe tbody tr th {\n",
       "        vertical-align: top;\n",
       "    }\n",
       "\n",
       "    .dataframe thead th {\n",
       "        text-align: right;\n",
       "    }\n",
       "</style>\n",
       "<table border=\"1\" class=\"dataframe\">\n",
       "  <thead>\n",
       "    <tr style=\"text-align: right;\">\n",
       "      <th></th>\n",
       "      <th>mpg</th>\n",
       "      <th>cylinders</th>\n",
       "      <th>displacement</th>\n",
       "      <th>horsepower</th>\n",
       "      <th>weight</th>\n",
       "      <th>acceleration</th>\n",
       "      <th>year</th>\n",
       "      <th>origin</th>\n",
       "      <th>origin_1</th>\n",
       "      <th>origin_2</th>\n",
       "      <th>origin_3</th>\n",
       "    </tr>\n",
       "    <tr>\n",
       "      <th>name</th>\n",
       "      <th></th>\n",
       "      <th></th>\n",
       "      <th></th>\n",
       "      <th></th>\n",
       "      <th></th>\n",
       "      <th></th>\n",
       "      <th></th>\n",
       "      <th></th>\n",
       "      <th></th>\n",
       "      <th></th>\n",
       "      <th></th>\n",
       "    </tr>\n",
       "  </thead>\n",
       "  <tbody>\n",
       "    <tr>\n",
       "      <th>ford mustang gl</th>\n",
       "      <td>27.00</td>\n",
       "      <td>4</td>\n",
       "      <td>140.00</td>\n",
       "      <td>86</td>\n",
       "      <td>2790</td>\n",
       "      <td>15.60</td>\n",
       "      <td>82</td>\n",
       "      <td>1</td>\n",
       "      <td>True</td>\n",
       "      <td>False</td>\n",
       "      <td>False</td>\n",
       "    </tr>\n",
       "    <tr>\n",
       "      <th>vw pickup</th>\n",
       "      <td>44.00</td>\n",
       "      <td>4</td>\n",
       "      <td>97.00</td>\n",
       "      <td>52</td>\n",
       "      <td>2130</td>\n",
       "      <td>24.60</td>\n",
       "      <td>82</td>\n",
       "      <td>2</td>\n",
       "      <td>False</td>\n",
       "      <td>True</td>\n",
       "      <td>False</td>\n",
       "    </tr>\n",
       "    <tr>\n",
       "      <th>dodge rampage</th>\n",
       "      <td>32.00</td>\n",
       "      <td>4</td>\n",
       "      <td>135.00</td>\n",
       "      <td>84</td>\n",
       "      <td>2295</td>\n",
       "      <td>11.60</td>\n",
       "      <td>82</td>\n",
       "      <td>1</td>\n",
       "      <td>True</td>\n",
       "      <td>False</td>\n",
       "      <td>False</td>\n",
       "    </tr>\n",
       "    <tr>\n",
       "      <th>ford ranger</th>\n",
       "      <td>28.00</td>\n",
       "      <td>4</td>\n",
       "      <td>120.00</td>\n",
       "      <td>79</td>\n",
       "      <td>2625</td>\n",
       "      <td>18.60</td>\n",
       "      <td>82</td>\n",
       "      <td>1</td>\n",
       "      <td>True</td>\n",
       "      <td>False</td>\n",
       "      <td>False</td>\n",
       "    </tr>\n",
       "    <tr>\n",
       "      <th>chevy s-10</th>\n",
       "      <td>31.00</td>\n",
       "      <td>4</td>\n",
       "      <td>119.00</td>\n",
       "      <td>82</td>\n",
       "      <td>2720</td>\n",
       "      <td>19.40</td>\n",
       "      <td>82</td>\n",
       "      <td>1</td>\n",
       "      <td>True</td>\n",
       "      <td>False</td>\n",
       "      <td>False</td>\n",
       "    </tr>\n",
       "  </tbody>\n",
       "</table>\n",
       "</div>"
      ],
      "text/plain": [
       "                  mpg  cylinders  displacement  horsepower  weight  \\\n",
       "name                                                                 \n",
       "ford mustang gl 27.00          4        140.00          86    2790   \n",
       "vw pickup       44.00          4         97.00          52    2130   \n",
       "dodge rampage   32.00          4        135.00          84    2295   \n",
       "ford ranger     28.00          4        120.00          79    2625   \n",
       "chevy s-10      31.00          4        119.00          82    2720   \n",
       "\n",
       "                 acceleration  year  origin  origin_1  origin_2  origin_3  \n",
       "name                                                                       \n",
       "ford mustang gl         15.60    82       1      True     False     False  \n",
       "vw pickup               24.60    82       2     False      True     False  \n",
       "dodge rampage           11.60    82       1      True     False     False  \n",
       "ford ranger             18.60    82       1      True     False     False  \n",
       "chevy s-10              19.40    82       1      True     False     False  "
      ]
     },
     "execution_count": 48,
     "metadata": {},
     "output_type": "execute_result"
    }
   ],
   "source": [
    "origin_dummies = pd.get_dummies(auto['origin'], prefix='origin')\n",
    "\n",
    "# Concatenamos las nuevas variables con el df original\n",
    "auto_d = pd.concat([auto, origin_dummies], axis=1)\n",
    "auto_d.tail()\n"
   ]
  },
  {
   "cell_type": "markdown",
   "metadata": {},
   "source": [
    "Ahora vamos a trabajar con `mpg` como **variable dependiente** y `horsepower` como **predictor**"
   ]
  },
  {
   "cell_type": "code",
   "execution_count": 49,
   "metadata": {
    "id": "_fRHNPS6V2Ct"
   },
   "outputs": [],
   "source": [
    "# Guardo los vectores de variable dependiente y de variable independiente respectivamente:\n",
    "y = auto_d['mpg']\n",
    "X = auto_d['horsepower']\n",
    "X = np.array(X).reshape((-1, 1))"
   ]
  },
  {
   "cell_type": "markdown",
   "metadata": {},
   "source": [
    "### Muestras aleatorias de Entrenamiento (train) y Testeo (test)\n",
    "Dividimos la base de entrenamiento y testeo de manera aleatorea:"
   ]
  },
  {
   "cell_type": "code",
   "execution_count": 50,
   "metadata": {},
   "outputs": [],
   "source": [
    "# Parto la base en dos y transformo el vector x: \n",
    "x_train, x_test, y_train, y_test = train_test_split(X, y, test_size = 0.3, random_state = 110)"
   ]
  },
  {
   "cell_type": "markdown",
   "metadata": {},
   "source": [
    "Siempre chequear que la base de entrenamiento (train) y de testeo (test) sean realmente aleatorias. Una forma es mirar la estadística descriptiva:"
   ]
  },
  {
   "cell_type": "code",
   "execution_count": 51,
   "metadata": {},
   "outputs": [
    {
     "name": "stdout",
     "output_type": "stream",
     "text": [
      "       x_train  x_test  y_train  y_test\n",
      "count   274.00  118.00   274.00  118.00\n",
      "mean    105.94  101.06    23.34   23.69\n",
      "std      39.22   36.67     7.76    7.93\n",
      "min      46.00   46.00     9.00   12.00\n",
      "25%      77.25   75.00    17.52   16.92\n",
      "50%      94.50   91.50    22.15   23.00\n",
      "75%     125.00  129.00    29.00   29.00\n",
      "max     225.00  230.00    46.60   44.60\n"
     ]
    }
   ],
   "source": [
    "estadisticas_x_train = pd.Series(x_train.flatten()).describe()\n",
    "estadisticas_x_test = pd.Series(x_test.flatten()).describe()\n",
    "estadisticas_y_train = y_train.describe()\n",
    "estadisticas_y_test = y_test.describe()\n",
    "\n",
    "estadisticas = pd.DataFrame({\n",
    "    'x_train': estadisticas_x_train,\n",
    "    'x_test': estadisticas_x_test,\n",
    "    'y_train': estadisticas_y_train,\n",
    "    'y_test': estadisticas_y_test\n",
    "})\n",
    "\n",
    "print(estadisticas)"
   ]
  },
  {
   "cell_type": "markdown",
   "metadata": {},
   "source": [
    "#### Para Probar: Que pasa con la estdistica descriptiva cuando cambian la opcion de `random_state`?\n",
    "\n",
    "Otra alternativas es hacer una tabla de diferencia de medias (t-test) entre el grupo de entrenamiento y de testeo:"
   ]
  },
  {
   "cell_type": "code",
   "execution_count": 52,
   "metadata": {},
   "outputs": [
    {
     "data": {
      "text/html": [
       "<div>\n",
       "<style scoped>\n",
       "    .dataframe tbody tr th:only-of-type {\n",
       "        vertical-align: middle;\n",
       "    }\n",
       "\n",
       "    .dataframe tbody tr th {\n",
       "        vertical-align: top;\n",
       "    }\n",
       "\n",
       "    .dataframe thead th {\n",
       "        text-align: right;\n",
       "    }\n",
       "</style>\n",
       "<table border=\"1\" class=\"dataframe\">\n",
       "  <thead>\n",
       "    <tr style=\"text-align: right;\">\n",
       "      <th></th>\n",
       "      <th>N train</th>\n",
       "      <th>Mean train</th>\n",
       "      <th>sd train</th>\n",
       "      <th>N test</th>\n",
       "      <th>Mean test</th>\n",
       "      <th>sd test</th>\n",
       "      <th>t-test</th>\n",
       "      <th>p-value</th>\n",
       "    </tr>\n",
       "  </thead>\n",
       "  <tbody>\n",
       "    <tr>\n",
       "      <th>horsepower</th>\n",
       "      <td>274</td>\n",
       "      <td>105.94</td>\n",
       "      <td>39.15</td>\n",
       "      <td>118</td>\n",
       "      <td>101.06</td>\n",
       "      <td>36.52</td>\n",
       "      <td>1.15</td>\n",
       "      <td>0.25</td>\n",
       "    </tr>\n",
       "    <tr>\n",
       "      <th>mpg</th>\n",
       "      <td>274</td>\n",
       "      <td>23.34</td>\n",
       "      <td>7.76</td>\n",
       "      <td>118</td>\n",
       "      <td>23.69</td>\n",
       "      <td>7.93</td>\n",
       "      <td>-0.40</td>\n",
       "      <td>0.69</td>\n",
       "    </tr>\n",
       "  </tbody>\n",
       "</table>\n",
       "</div>"
      ],
      "text/plain": [
       "            N train  Mean train  sd train  N test  Mean test  sd test  t-test  \\\n",
       "horsepower      274      105.94     39.15     118     101.06    36.52    1.15   \n",
       "mpg             274       23.34      7.76     118      23.69     7.93   -0.40   \n",
       "\n",
       "            p-value  \n",
       "horsepower     0.25  \n",
       "mpg            0.69  "
      ]
     },
     "execution_count": 52,
     "metadata": {},
     "output_type": "execute_result"
    }
   ],
   "source": [
    "# Calcula los estadísticos\n",
    "estadisticos = pd.DataFrame({\n",
    "    'N train': [x_train.shape[0], y_train.shape[0]],\n",
    "    'Mean train': [x_train.mean(), y_train.mean()],\n",
    "    'sd train': [x_train.std(), y_train.std()],\n",
    "    'N test': [x_test.shape[0], y_test.shape[0]],\n",
    "    'Mean test': [x_test.mean(), y_test.mean()],\n",
    "    'sd test': [x_test.std(), y_test.std()],\n",
    "})\n",
    "\n",
    "# Calcula el t-test y p-value\n",
    "t_test_x = stats.ttest_ind(x_train.flatten(), x_test.flatten())\n",
    "t_test_y = stats.ttest_ind(y_train, y_test)\n",
    "\n",
    "estadisticos['t-test'] = [t_test_x.statistic, t_test_y.statistic]\n",
    "estadisticos['p-value'] = [t_test_x.pvalue, t_test_y.pvalue]\n",
    "\n",
    "# Define las variables como índice\n",
    "estadisticos.index = ['horsepower', 'mpg']\n",
    "\n",
    "# Exporta a Excel\n",
    "estadisticos.to_excel('estadisticos.xlsx')\n",
    "\n",
    "estadisticos"
   ]
  },
  {
   "cell_type": "markdown",
   "metadata": {},
   "source": [
    "## 1. Enfoque de Validación"
   ]
  },
  {
   "cell_type": "code",
   "execution_count": 53,
   "metadata": {},
   "outputs": [
    {
     "name": "stdout",
     "output_type": "stream",
     "text": [
      "Coeficiente: [-0.15590317]\n",
      "R2 afuera de la muestra: 0.57\n",
      "R2 adentro de la muestra: 0.62\n",
      "Error cuadrático medio (test): 26.66\n",
      "Error cuadrático medio (train): 22.81\n"
     ]
    }
   ],
   "source": [
    "# Regresión lineal\n",
    "lreg=LinearRegression()\n",
    "\n",
    "# Estimación del modelo con base de entrenamiento\n",
    "lreg.fit(x_train,y_train)\n",
    "print(\"Coeficiente:\", lreg.coef_) #pendiente\n",
    "\n",
    "# Predicción de 'y' con base de testeo (y sombrerito)\n",
    "y_pred_lreg_train=lreg.predict(x_train)\n",
    "y_pred_lreg=lreg.predict(x_test)\n",
    "\n",
    "# Evaluación del modelo (model assesment)\n",
    "print(\"R2 afuera de la muestra:\", round(r2_score(y_test,y_pred_lreg),2))\n",
    "print(\"R2 adentro de la muestra:\", round(r2_score(y_train,y_pred_lreg_train),2))\n",
    "\n",
    "# Error Cuadrático Medio (MSE de testeo)\n",
    "mse_test_l = mean_squared_error(y_test, y_pred_lreg)\n",
    "mse_train_l = mean_squared_error(y_train, y_pred_lreg_train)\n",
    "\n",
    "print('Error cuadrático medio (test):', round(mse_test_l, 2))\n",
    "print('Error cuadrático medio (train):', round(mse_train_l, 2))"
   ]
  },
  {
   "cell_type": "code",
   "execution_count": 54,
   "metadata": {},
   "outputs": [
    {
     "data": {
      "text/plain": [
       "Text(0.5, 1.0, 'Evaluación del modelo de regresión lineal  (d=1)')"
      ]
     },
     "execution_count": 54,
     "metadata": {},
     "output_type": "execute_result"
    },
    {
     "data": {
      "image/png": "[encoded data removed]",
      "text/plain": [
       "<Figure size 640x480 with 1 Axes>"
      ]
     },
     "metadata": {},
     "output_type": "display_data"
    }
   ],
   "source": [
    "# Visualizamos en la muestra de testeo, la predicción de regresión lineal con un scatter plot\n",
    "plt.plot(x_test, y_test, 'o', alpha=0.7)\n",
    "plt.plot(x_test, y_pred_lreg, color=\"red\")\n",
    "plt.xlabel('Caballos del motor (horsepower)')\n",
    "plt.ylabel('Millas por galón (mpg)')\n",
    "plt.title('Evaluación del modelo de regresión lineal  (d=1)')"
   ]
  },
  {
   "cell_type": "markdown",
   "metadata": {},
   "source": [
    "#### Regresiónes Polinómicas\n",
    "Implican una transformación polinómica de las $X$, para luego implementar la regresión por MCO (Mínimos Cuadrados Ordinarios)."
   ]
  },
  {
   "cell_type": "code",
   "execution_count": 55,
   "metadata": {
    "id": "roKZmBmrV2Cu"
   },
   "outputs": [
    {
     "name": "stdout",
     "output_type": "stream",
     "text": [
      "X antes de la transformación:\n",
      " [[110]\n",
      " [110]\n",
      " [120]\n",
      " [170]\n",
      " [ 74]]\n",
      "X luego de la transformación:\n",
      " [[  110. 12100.]\n",
      " [  110. 12100.]\n",
      " [  120. 14400.]\n",
      " [  170. 28900.]\n",
      " [   74.  5476.]]\n"
     ]
    }
   ],
   "source": [
    "# Veamos un modelo cuadrático:\n",
    "poly = PolynomialFeatures(degree = 2, include_bias=False) \n",
    "# Recordar setear include_bias=False dado que en la regresión lineal -con LinearRegression- se incluirá la  \n",
    "#  constante (esto suma una columna de 1s)\n",
    "\n",
    "# Transformamos el vector columna en una matriz para tener en cuenta el grado del polinomio de interés\n",
    "print('X antes de la transformación:\\n', x_train[:5,])\n",
    "x_train_poly = poly.fit_transform(x_train)\n",
    "x_test_poly = poly.fit_transform(x_test)  \n",
    "np.set_printoptions(suppress = True) # evita que el print salga con notación científica\n",
    "print('X luego de la transformación:\\n', x_train_poly[:5,])\n"
   ]
  },
  {
   "cell_type": "code",
   "execution_count": 16,
   "metadata": {},
   "outputs": [
    {
     "name": "stdout",
     "output_type": "stream",
     "text": [
      "\n",
      "Intercepto: 58.88637083420218\n",
      "Coeficientes: [-0.49542658  0.0013281 ]\n"
     ]
    }
   ],
   "source": [
    "# Ajustamos el modelo\n",
    "model = LinearRegression().fit(x_train_poly, y_train) \n",
    "print('\\nIntercepto:', model.intercept_)\n",
    "print('Coeficientes:', model.coef_)\n"
   ]
  },
  {
   "cell_type": "code",
   "execution_count": 17,
   "metadata": {},
   "outputs": [
    {
     "name": "stdout",
     "output_type": "stream",
     "text": [
      "Error cuadrático medio (test): 22.770664664119547\n"
     ]
    }
   ],
   "source": [
    "# Calculamos el Error Cuadrático Medio\n",
    "y_pred_poly = model.predict(x_test_poly)\n",
    "mse_test_d2 = mean_squared_error(y_test, y_pred_poly)\n",
    "print('Error cuadrático medio (test):', mse_test_d2)"
   ]
  },
  {
   "cell_type": "code",
   "execution_count": 18,
   "metadata": {},
   "outputs": [],
   "source": [
    "# tarea para la casa: R2 y MSE testeo y train"
   ]
  },
  {
   "cell_type": "code",
   "execution_count": 19,
   "metadata": {
    "id": "g0v8qlN3V2Cv"
   },
   "outputs": [
    {
     "name": "stdout",
     "output_type": "stream",
     "text": [
      "[[46.        ]\n",
      " [49.75510204]\n",
      " [53.51020408]\n",
      " [57.26530612]\n",
      " [61.02040816]]\n",
      "[[  46.         2116.        ]\n",
      " [  49.75510204 2475.57017909]\n",
      " [  53.51020408 2863.34194086]\n",
      " [  57.26530612 3279.3152853 ]\n",
      " [  61.02040816 3723.49021241]]\n"
     ]
    },
    {
     "data": {
      "image/png": "[encoded data removed]",
      "text/plain": [
       "<Figure size 640x480 with 1 Axes>"
      ]
     },
     "metadata": {},
     "output_type": "display_data"
    }
   ],
   "source": [
    "# Creamos un nuevo vector de X y aplicamos las transformaciones\n",
    "X_seq = np.linspace(x_test.min(), x_test.max()).reshape(-1,1) \n",
    "print(X_seq[:5,])\n",
    "# Valores entre el minimo y el maximo de X. \n",
    "# linspace por default crea 50 valores\n",
    "# Aplicamos las transformaciones polinomicas\n",
    "X_seq_poly = poly.fit_transform(X_seq) \n",
    "print(X_seq_poly[:5,])\n",
    "\n",
    "# Gráfico en la base de entrenamiento para selecciónar el modelo (Model Selection)\n",
    "plt.figure()\n",
    "plt.scatter(x_test, y_test, alpha=0.7)\n",
    "plt.plot(X_seq, model.predict(X_seq_poly),color=\"red\")\n",
    "plt.xlabel('Caballos del motor (horsepower)')\n",
    "plt.ylabel('Millas por galón (mpg)')\n",
    "plt.title(\"Evaluación del modelo de regresión cuadrático  (d=2)\")\n",
    "plt.show()"
   ]
  },
  {
   "cell_type": "code",
   "execution_count": 20,
   "metadata": {
    "id": "PGeVHCwAV2Cv"
   },
   "outputs": [
    {
     "name": "stdout",
     "output_type": "stream",
     "text": [
      "\n",
      "Intercepto: 71.71205803693024\n",
      "Coeficientes: [-0.83726019  0.00412162 -0.00000703]\n",
      "Error cuadrático medio (test): 24.319258896404605\n"
     ]
    }
   ],
   "source": [
    "# Veamos un modelo cúbico:\n",
    "poly = PolynomialFeatures(degree = 3, include_bias=False) \n",
    "\n",
    "x_train_poly = poly.fit_transform(x_train)\n",
    "x_test_poly = poly.fit_transform(x_test)  \n",
    "  \n",
    "model = LinearRegression().fit(x_train_poly, y_train) \n",
    "y_pred_poly = model.predict(x_test_poly)\n",
    "\n",
    "mse_test_d3 = mean_squared_error(y_test, y_pred_poly)\n",
    "\n",
    "print('\\nIntercepto:', model.intercept_)\n",
    "print('Coeficientes:', model.coef_)\n",
    "print('Error cuadrático medio (test):', mse_test_d3)"
   ]
  },
  {
   "cell_type": "markdown",
   "metadata": {},
   "source": [
    "A priori, viendo el ECM, parecería que la regresión polinomial de grado 2 es la que mejor funciona "
   ]
  },
  {
   "cell_type": "code",
   "execution_count": 21,
   "metadata": {
    "id": "g0v8qlN3V2Cv"
   },
   "outputs": [
    {
     "name": "stdout",
     "output_type": "stream",
     "text": [
      "[[46.        ]\n",
      " [49.75510204]\n",
      " [53.51020408]\n",
      " [57.26530612]\n",
      " [61.02040816]]\n",
      "[[    46.           2116.          97336.        ]\n",
      " [    49.75510204   2475.57017909 123172.24686993]\n",
      " [    53.51020408   2863.34194086 153218.01161081]\n",
      " [    57.26530612   3279.3152853  187790.9936846 ]\n",
      " [    61.02040816   3723.49021241 227208.89255327]]\n"
     ]
    },
    {
     "data": {
      "image/png": "[encoded data removed]",
      "text/plain": [
       "<Figure size 640x480 with 1 Axes>"
      ]
     },
     "metadata": {},
     "output_type": "display_data"
    }
   ],
   "source": [
    "# Creamos un nuevo vector de X y aplicamos las transformaciones\n",
    "X_seq = np.linspace(x_test.min(), x_test.max()).reshape(-1,1) \n",
    "print(X_seq[:5,])\n",
    "# Valores entre el minimo y el maximo de X. \n",
    "# linspace por default crea 50 valores\n",
    "# Aplicamos las transformaciones polinomicas\n",
    "X_seq_poly = poly.fit_transform(X_seq) \n",
    "print(X_seq_poly[:5,])\n",
    "\n",
    "# Gráfico en la base de entrenamiento para selecciónar el modelo (Model Selection)\n",
    "plt.figure()\n",
    "plt.scatter(x_test, y_test, alpha=0.7)\n",
    "plt.plot(X_seq, model.predict(X_seq_poly),color=\"red\")\n",
    "plt.xlabel('Caballos del motor (horsepower)')\n",
    "plt.ylabel('Millas por galón (mpg)')\n",
    "plt.title(\"Evaluación del modelo de regresión cúbico (d=3)\")\n",
    "plt.show()"
   ]
  },
  {
   "cell_type": "code",
   "execution_count": 22,
   "metadata": {},
   "outputs": [],
   "source": [
    "#hacer este grafico de y_predic y y_train"
   ]
  },
  {
   "cell_type": "markdown",
   "metadata": {},
   "source": [
    "### Enfoque de validación con una nueva participación\n",
    "Ahora supongamos que cambiamos la muestra de entrenamienta y de testeo. Repetimos la selección y evaluación del modelo"
   ]
  },
  {
   "cell_type": "code",
   "execution_count": 23,
   "metadata": {
    "id": "-zMPx8mCV2Cx"
   },
   "outputs": [
    {
     "name": "stdout",
     "output_type": "stream",
     "text": [
      "\n",
      "Intercepto: 56.93289017601293\n",
      "Coeficientes: [-0.45841107  0.00118358]\n",
      "Error cuadrático medio (test): 15.35848780693387\n"
     ]
    }
   ],
   "source": [
    "x_train, x_test, y_train, y_test = train_test_split(X, y, test_size = 0.3, random_state = 50)\n",
    "\n",
    "# Qué error esperarían que obtengamos esta vez?\n",
    "poly = PolynomialFeatures(degree = 2, include_bias=False) \n",
    "\n",
    "x_train_poly = poly.fit_transform(x_train)\n",
    "x_test_poly = poly.fit_transform(x_test)  \n",
    "  \n",
    "model = LinearRegression().fit(x_train_poly, y_train) \n",
    "y_pred_poly = model.predict(x_test_poly)\n",
    "\n",
    "mse_test_d2_ = mean_squared_error(y_test, y_pred_poly)\n",
    "\n",
    "print('\\nIntercepto:', model.intercept_)\n",
    "print('Coeficientes:', model.coef_)\n",
    "print('Error cuadrático medio (test):', mse_test_d2_)"
   ]
  },
  {
   "cell_type": "markdown",
   "metadata": {},
   "source": [
    "##### Funciones: DocString, repaso\n",
    "Cómo podemos repetir el código sin escribirlo por tercera vez?\n",
    "\n",
    "Podemos hacer que nuestro código funcione para otros grados?"
   ]
  },
  {
   "cell_type": "code",
   "execution_count": 24,
   "metadata": {
    "id": "Kvzk8UGzV2Cx"
   },
   "outputs": [],
   "source": [
    "def transf_reg_poly(grado, x_train, x_test, y_train, y_test):\n",
    "    '''\n",
    "    La función realiza una transformación polinomial y luego corre una regresión lineal polinómica\n",
    "    Input:\n",
    "        grado\n",
    "        x_train, x_test, y_train, y_test\n",
    "    Output:\n",
    "        modelo, ecm\n",
    "    '''\n",
    "    poly = PolynomialFeatures(degree = grado, include_bias=False) \n",
    "\n",
    "    x_train_poly = poly.fit_transform(x_train)\n",
    "    x_test_poly = poly.fit_transform(x_test)  \n",
    "  \n",
    "    model = LinearRegression().fit(x_train_poly, y_train) \n",
    "    y_pred_poly = model.predict(x_test_poly)\n",
    "    \n",
    "    mse_test = mean_squared_error(y_test, y_pred_poly)\n",
    "    return model, mse_test\n"
   ]
  },
  {
   "cell_type": "code",
   "execution_count": 25,
   "metadata": {
    "id": "ZbegRYh6V2Cy"
   },
   "outputs": [],
   "source": [
    "mse_test_1_ = transf_reg_poly(1, x_train, x_test, y_train, y_test)[1]\n",
    "mse_test_2b_ = transf_reg_poly(2, x_train, x_test, y_train, y_test)[1]\n",
    "mse_test_3b_ = transf_reg_poly(3, x_train, x_test, y_train, y_test)[1]\n",
    "mse_test_4b_ = transf_reg_poly(4, x_train, x_test, y_train, y_test)[1]\n",
    "mse_test_5b_ = transf_reg_poly(5, x_train, x_test, y_train, y_test)[1]"
   ]
  },
  {
   "cell_type": "code",
   "execution_count": 26,
   "metadata": {},
   "outputs": [
    {
     "name": "stdout",
     "output_type": "stream",
     "text": [
      "Regresión lineal: 26.658184066910614\n",
      "Grado2: 22.770664664119547\n",
      "Grado3: 24.319258896404605\n"
     ]
    }
   ],
   "source": [
    "# Performance con la PRIMERA partición de muestras de entrenamiento y testeo\n",
    "print('Regresión lineal:', mse_test_l)\n",
    "print('Grado2:', mse_test_d2)\n",
    "print('Grado3:', mse_test_d3)"
   ]
  },
  {
   "cell_type": "code",
   "execution_count": 27,
   "metadata": {
    "id": "9BjUojF5V2Cy"
   },
   "outputs": [
    {
     "name": "stdout",
     "output_type": "stream",
     "text": [
      "\n",
      "Regresión lineal: 21.372690058743164\n",
      "Grado2: 15.35848780693387\n",
      "Grado3: 15.293069776610155\n",
      "Grado4: 15.327734380354629\n",
      "Grado5: 14.653571750218658\n"
     ]
    }
   ],
   "source": [
    "# Performance con la SEGUNDA partición de muestras de entrenamiento y testeo\n",
    "print('\\nRegresión lineal:', mse_test_1_)\n",
    "print('Grado2:', mse_test_2b_)\n",
    "print('Grado3:', mse_test_3b_)\n",
    "print('Grado4:', mse_test_4b_)\n",
    "print('Grado5:', mse_test_5b_)"
   ]
  },
  {
   "cell_type": "markdown",
   "metadata": {},
   "source": [
    "Podemos concluir que:\n",
    "- la regresión lineal funciona peor (en ambos casos tiene mayor ECM)\n",
    "- introducir un término cuadrático reduce el ECM en ambas muestras.\n",
    "\n",
    "Pero en el caso de introducir un término cúbico, no es obvio si funciona mejor o no...\n",
    "\n",
    "El ECM puede **variar** según qué observaciones quedaron incluidas en los sets de train y test"
   ]
  },
  {
   "cell_type": "markdown",
   "metadata": {
    "id": "hk05DUbrV2Cz"
   },
   "source": [
    "###  2. K-FOLD CROSS-VALIDATION  \n",
    "\n",
    "Es un **técnica de remuestreo**. Se usa para estimar el error (test) asociado a un método de aprendizaje, para:  \n",
    "- Elegir el nivel de complejidad optimo (Model selection)\n",
    "- Evaluar el error de pronóstico fuera de la muestra (futura, condicional, contra fáctica, etc.) (Model Assesment)\n",
    "\n",
    "Consiste en:\n",
    "- Dividir las observaciones en k folds (pliegues), del mismo tamaño, aleatoriamente. \n",
    "- Ajustar el modelo k veces, cada vez con k-1 folds (distintos cada vez). Computar k veces el error de predicción en el fold reservado. (cada fold se usa k-1 veces como training set y 1 vez como test set).\n",
    "- Estimar el error de predicción, estimación que surge de promediar las K estimaciones obtenidas.\n",
    "\n",
    "Vamos a usar [KFold](https://scikit-learn.org/stable/modules/generated/sklearn.model_selection.KFold.html) de Scikitlearn"
   ]
  },
  {
   "cell_type": "code",
   "execution_count": 28,
   "metadata": {},
   "outputs": [
    {
     "data": {
      "text/html": [
       "<img src=\"https://global.discourse-cdn.com/dlai/optimized/3X/a/3/a3ed2de61c2b4fa00f1b7e939753e1a7e181afb0_2_690x476.png\"/>"
      ],
      "text/plain": [
       "<IPython.core.display.Image object>"
      ]
     },
     "metadata": {},
     "output_type": "display_data"
    }
   ],
   "source": [
    "from IPython.display import Image, display\n",
    "\n",
    "#Ilustración de Cross-Validation\n",
    "display(Image(url=\"https://global.discourse-cdn.com/dlai/optimized/3X/a/3/a3ed2de61c2b4fa00f1b7e939753e1a7e181afb0_2_690x476.png\"\n",
    "))"
   ]
  },
  {
   "cell_type": "code",
   "execution_count": 29,
   "metadata": {},
   "outputs": [
    {
     "data": {
      "text/html": [
       "<div>\n",
       "<style scoped>\n",
       "    .dataframe tbody tr th:only-of-type {\n",
       "        vertical-align: middle;\n",
       "    }\n",
       "\n",
       "    .dataframe tbody tr th {\n",
       "        vertical-align: top;\n",
       "    }\n",
       "\n",
       "    .dataframe thead th {\n",
       "        text-align: right;\n",
       "    }\n",
       "</style>\n",
       "<table border=\"1\" class=\"dataframe\">\n",
       "  <thead>\n",
       "    <tr style=\"text-align: right;\">\n",
       "      <th></th>\n",
       "      <th>grado</th>\n",
       "      <th>particion</th>\n",
       "      <th>ecm</th>\n",
       "    </tr>\n",
       "  </thead>\n",
       "  <tbody>\n",
       "  </tbody>\n",
       "</table>\n",
       "</div>"
      ],
      "text/plain": [
       "Empty DataFrame\n",
       "Columns: [grado, particion, ecm]\n",
       "Index: []"
      ]
     },
     "execution_count": 29,
     "metadata": {},
     "output_type": "execute_result"
    }
   ],
   "source": [
    "y = auto['mpg']\n",
    "X = auto['horsepower']\n",
    "X = np.array(X).reshape((-1, 1))\n",
    "\n",
    "from sklearn.model_selection import KFold\n",
    "\n",
    "ecms = pd.DataFrame(columns=[\"grado\", \"particion\", \"ecm\"])\n",
    "ecms"
   ]
  },
  {
   "cell_type": "markdown",
   "metadata": {},
   "source": [
    "Lo usual es usar K=5 o K=10"
   ]
  },
  {
   "cell_type": "code",
   "execution_count": 30,
   "metadata": {},
   "outputs": [
    {
     "name": "stdout",
     "output_type": "stream",
     "text": [
      "<class 'numpy.ndarray'> <class 'pandas.core.series.Series'>\n",
      "(392, 1) (392,)\n"
     ]
    }
   ],
   "source": [
    "print(type(X), type(y))\n",
    "print(X.shape, y.shape)\n",
    "#print(X.flatten(), y)"
   ]
  },
  {
   "cell_type": "code",
   "execution_count": 31,
   "metadata": {
    "id": "ktqljY-fV2Cz",
    "scrolled": true
   },
   "outputs": [
    {
     "name": "stderr",
     "output_type": "stream",
     "text": [
      "C:\\Users\\tomas\\AppData\\Local\\Temp\\ipykernel_18848\\3808578353.py:17: FutureWarning: Series.__getitem__ treating keys as positions is deprecated. In a future version, integer keys will always be treated as labels (consistent with DataFrame behavior). To access a value by position, use `ser.iloc[pos]`\n",
      "  y_train, y_val = y[train_index], y[val_index]\n",
      "C:\\Users\\tomas\\AppData\\Local\\Temp\\ipykernel_18848\\3808578353.py:23: FutureWarning: The behavior of DataFrame concatenation with empty or all-NA entries is deprecated. In a future version, this will no longer exclude empty or all-NA columns when determining the result dtypes. To retain the old behavior, exclude the relevant entries before the concat operation.\n",
      "  ecms = pd.concat([ecms, df_i])\n",
      "C:\\Users\\tomas\\AppData\\Local\\Temp\\ipykernel_18848\\3808578353.py:17: FutureWarning: Series.__getitem__ treating keys as positions is deprecated. In a future version, integer keys will always be treated as labels (consistent with DataFrame behavior). To access a value by position, use `ser.iloc[pos]`\n",
      "  y_train, y_val = y[train_index], y[val_index]\n",
      "C:\\Users\\tomas\\AppData\\Local\\Temp\\ipykernel_18848\\3808578353.py:17: FutureWarning: Series.__getitem__ treating keys as positions is deprecated. In a future version, integer keys will always be treated as labels (consistent with DataFrame behavior). To access a value by position, use `ser.iloc[pos]`\n",
      "  y_train, y_val = y[train_index], y[val_index]\n",
      "C:\\Users\\tomas\\AppData\\Local\\Temp\\ipykernel_18848\\3808578353.py:17: FutureWarning: Series.__getitem__ treating keys as positions is deprecated. In a future version, integer keys will always be treated as labels (consistent with DataFrame behavior). To access a value by position, use `ser.iloc[pos]`\n",
      "  y_train, y_val = y[train_index], y[val_index]\n",
      "C:\\Users\\tomas\\AppData\\Local\\Temp\\ipykernel_18848\\3808578353.py:17: FutureWarning: Series.__getitem__ treating keys as positions is deprecated. In a future version, integer keys will always be treated as labels (consistent with DataFrame behavior). To access a value by position, use `ser.iloc[pos]`\n",
      "  y_train, y_val = y[train_index], y[val_index]\n",
      "C:\\Users\\tomas\\AppData\\Local\\Temp\\ipykernel_18848\\3808578353.py:17: FutureWarning: Series.__getitem__ treating keys as positions is deprecated. In a future version, integer keys will always be treated as labels (consistent with DataFrame behavior). To access a value by position, use `ser.iloc[pos]`\n",
      "  y_train, y_val = y[train_index], y[val_index]\n",
      "C:\\Users\\tomas\\AppData\\Local\\Temp\\ipykernel_18848\\3808578353.py:17: FutureWarning: Series.__getitem__ treating keys as positions is deprecated. In a future version, integer keys will always be treated as labels (consistent with DataFrame behavior). To access a value by position, use `ser.iloc[pos]`\n",
      "  y_train, y_val = y[train_index], y[val_index]\n",
      "C:\\Users\\tomas\\AppData\\Local\\Temp\\ipykernel_18848\\3808578353.py:17: FutureWarning: Series.__getitem__ treating keys as positions is deprecated. In a future version, integer keys will always be treated as labels (consistent with DataFrame behavior). To access a value by position, use `ser.iloc[pos]`\n",
      "  y_train, y_val = y[train_index], y[val_index]\n",
      "C:\\Users\\tomas\\AppData\\Local\\Temp\\ipykernel_18848\\3808578353.py:17: FutureWarning: Series.__getitem__ treating keys as positions is deprecated. In a future version, integer keys will always be treated as labels (consistent with DataFrame behavior). To access a value by position, use `ser.iloc[pos]`\n",
      "  y_train, y_val = y[train_index], y[val_index]\n",
      "C:\\Users\\tomas\\AppData\\Local\\Temp\\ipykernel_18848\\3808578353.py:17: FutureWarning: Series.__getitem__ treating keys as positions is deprecated. In a future version, integer keys will always be treated as labels (consistent with DataFrame behavior). To access a value by position, use `ser.iloc[pos]`\n",
      "  y_train, y_val = y[train_index], y[val_index]\n",
      "C:\\Users\\tomas\\AppData\\Local\\Temp\\ipykernel_18848\\3808578353.py:17: FutureWarning: Series.__getitem__ treating keys as positions is deprecated. In a future version, integer keys will always be treated as labels (consistent with DataFrame behavior). To access a value by position, use `ser.iloc[pos]`\n",
      "  y_train, y_val = y[train_index], y[val_index]\n",
      "C:\\Users\\tomas\\AppData\\Local\\Temp\\ipykernel_18848\\3808578353.py:17: FutureWarning: Series.__getitem__ treating keys as positions is deprecated. In a future version, integer keys will always be treated as labels (consistent with DataFrame behavior). To access a value by position, use `ser.iloc[pos]`\n",
      "  y_train, y_val = y[train_index], y[val_index]\n",
      "C:\\Users\\tomas\\AppData\\Local\\Temp\\ipykernel_18848\\3808578353.py:17: FutureWarning: Series.__getitem__ treating keys as positions is deprecated. In a future version, integer keys will always be treated as labels (consistent with DataFrame behavior). To access a value by position, use `ser.iloc[pos]`\n",
      "  y_train, y_val = y[train_index], y[val_index]\n",
      "C:\\Users\\tomas\\AppData\\Local\\Temp\\ipykernel_18848\\3808578353.py:17: FutureWarning: Series.__getitem__ treating keys as positions is deprecated. In a future version, integer keys will always be treated as labels (consistent with DataFrame behavior). To access a value by position, use `ser.iloc[pos]`\n",
      "  y_train, y_val = y[train_index], y[val_index]\n",
      "C:\\Users\\tomas\\AppData\\Local\\Temp\\ipykernel_18848\\3808578353.py:17: FutureWarning: Series.__getitem__ treating keys as positions is deprecated. In a future version, integer keys will always be treated as labels (consistent with DataFrame behavior). To access a value by position, use `ser.iloc[pos]`\n",
      "  y_train, y_val = y[train_index], y[val_index]\n",
      "C:\\Users\\tomas\\AppData\\Local\\Temp\\ipykernel_18848\\3808578353.py:17: FutureWarning: Series.__getitem__ treating keys as positions is deprecated. In a future version, integer keys will always be treated as labels (consistent with DataFrame behavior). To access a value by position, use `ser.iloc[pos]`\n",
      "  y_train, y_val = y[train_index], y[val_index]\n",
      "C:\\Users\\tomas\\AppData\\Local\\Temp\\ipykernel_18848\\3808578353.py:17: FutureWarning: Series.__getitem__ treating keys as positions is deprecated. In a future version, integer keys will always be treated as labels (consistent with DataFrame behavior). To access a value by position, use `ser.iloc[pos]`\n",
      "  y_train, y_val = y[train_index], y[val_index]\n",
      "C:\\Users\\tomas\\AppData\\Local\\Temp\\ipykernel_18848\\3808578353.py:17: FutureWarning: Series.__getitem__ treating keys as positions is deprecated. In a future version, integer keys will always be treated as labels (consistent with DataFrame behavior). To access a value by position, use `ser.iloc[pos]`\n",
      "  y_train, y_val = y[train_index], y[val_index]\n",
      "C:\\Users\\tomas\\AppData\\Local\\Temp\\ipykernel_18848\\3808578353.py:17: FutureWarning: Series.__getitem__ treating keys as positions is deprecated. In a future version, integer keys will always be treated as labels (consistent with DataFrame behavior). To access a value by position, use `ser.iloc[pos]`\n",
      "  y_train, y_val = y[train_index], y[val_index]\n",
      "C:\\Users\\tomas\\AppData\\Local\\Temp\\ipykernel_18848\\3808578353.py:17: FutureWarning: Series.__getitem__ treating keys as positions is deprecated. In a future version, integer keys will always be treated as labels (consistent with DataFrame behavior). To access a value by position, use `ser.iloc[pos]`\n",
      "  y_train, y_val = y[train_index], y[val_index]\n",
      "C:\\Users\\tomas\\AppData\\Local\\Temp\\ipykernel_18848\\3808578353.py:17: FutureWarning: Series.__getitem__ treating keys as positions is deprecated. In a future version, integer keys will always be treated as labels (consistent with DataFrame behavior). To access a value by position, use `ser.iloc[pos]`\n",
      "  y_train, y_val = y[train_index], y[val_index]\n",
      "C:\\Users\\tomas\\AppData\\Local\\Temp\\ipykernel_18848\\3808578353.py:17: FutureWarning: Series.__getitem__ treating keys as positions is deprecated. In a future version, integer keys will always be treated as labels (consistent with DataFrame behavior). To access a value by position, use `ser.iloc[pos]`\n",
      "  y_train, y_val = y[train_index], y[val_index]\n",
      "C:\\Users\\tomas\\AppData\\Local\\Temp\\ipykernel_18848\\3808578353.py:17: FutureWarning: Series.__getitem__ treating keys as positions is deprecated. In a future version, integer keys will always be treated as labels (consistent with DataFrame behavior). To access a value by position, use `ser.iloc[pos]`\n",
      "  y_train, y_val = y[train_index], y[val_index]\n",
      "C:\\Users\\tomas\\AppData\\Local\\Temp\\ipykernel_18848\\3808578353.py:17: FutureWarning: Series.__getitem__ treating keys as positions is deprecated. In a future version, integer keys will always be treated as labels (consistent with DataFrame behavior). To access a value by position, use `ser.iloc[pos]`\n",
      "  y_train, y_val = y[train_index], y[val_index]\n",
      "C:\\Users\\tomas\\AppData\\Local\\Temp\\ipykernel_18848\\3808578353.py:17: FutureWarning: Series.__getitem__ treating keys as positions is deprecated. In a future version, integer keys will always be treated as labels (consistent with DataFrame behavior). To access a value by position, use `ser.iloc[pos]`\n",
      "  y_train, y_val = y[train_index], y[val_index]\n",
      "C:\\Users\\tomas\\AppData\\Local\\Temp\\ipykernel_18848\\3808578353.py:17: FutureWarning: Series.__getitem__ treating keys as positions is deprecated. In a future version, integer keys will always be treated as labels (consistent with DataFrame behavior). To access a value by position, use `ser.iloc[pos]`\n",
      "  y_train, y_val = y[train_index], y[val_index]\n",
      "C:\\Users\\tomas\\AppData\\Local\\Temp\\ipykernel_18848\\3808578353.py:17: FutureWarning: Series.__getitem__ treating keys as positions is deprecated. In a future version, integer keys will always be treated as labels (consistent with DataFrame behavior). To access a value by position, use `ser.iloc[pos]`\n",
      "  y_train, y_val = y[train_index], y[val_index]\n",
      "C:\\Users\\tomas\\AppData\\Local\\Temp\\ipykernel_18848\\3808578353.py:17: FutureWarning: Series.__getitem__ treating keys as positions is deprecated. In a future version, integer keys will always be treated as labels (consistent with DataFrame behavior). To access a value by position, use `ser.iloc[pos]`\n",
      "  y_train, y_val = y[train_index], y[val_index]\n",
      "C:\\Users\\tomas\\AppData\\Local\\Temp\\ipykernel_18848\\3808578353.py:17: FutureWarning: Series.__getitem__ treating keys as positions is deprecated. In a future version, integer keys will always be treated as labels (consistent with DataFrame behavior). To access a value by position, use `ser.iloc[pos]`\n",
      "  y_train, y_val = y[train_index], y[val_index]\n",
      "C:\\Users\\tomas\\AppData\\Local\\Temp\\ipykernel_18848\\3808578353.py:17: FutureWarning: Series.__getitem__ treating keys as positions is deprecated. In a future version, integer keys will always be treated as labels (consistent with DataFrame behavior). To access a value by position, use `ser.iloc[pos]`\n",
      "  y_train, y_val = y[train_index], y[val_index]\n",
      "C:\\Users\\tomas\\AppData\\Local\\Temp\\ipykernel_18848\\3808578353.py:17: FutureWarning: Series.__getitem__ treating keys as positions is deprecated. In a future version, integer keys will always be treated as labels (consistent with DataFrame behavior). To access a value by position, use `ser.iloc[pos]`\n",
      "  y_train, y_val = y[train_index], y[val_index]\n",
      "C:\\Users\\tomas\\AppData\\Local\\Temp\\ipykernel_18848\\3808578353.py:17: FutureWarning: Series.__getitem__ treating keys as positions is deprecated. In a future version, integer keys will always be treated as labels (consistent with DataFrame behavior). To access a value by position, use `ser.iloc[pos]`\n",
      "  y_train, y_val = y[train_index], y[val_index]\n",
      "C:\\Users\\tomas\\AppData\\Local\\Temp\\ipykernel_18848\\3808578353.py:17: FutureWarning: Series.__getitem__ treating keys as positions is deprecated. In a future version, integer keys will always be treated as labels (consistent with DataFrame behavior). To access a value by position, use `ser.iloc[pos]`\n",
      "  y_train, y_val = y[train_index], y[val_index]\n",
      "C:\\Users\\tomas\\AppData\\Local\\Temp\\ipykernel_18848\\3808578353.py:17: FutureWarning: Series.__getitem__ treating keys as positions is deprecated. In a future version, integer keys will always be treated as labels (consistent with DataFrame behavior). To access a value by position, use `ser.iloc[pos]`\n",
      "  y_train, y_val = y[train_index], y[val_index]\n",
      "C:\\Users\\tomas\\AppData\\Local\\Temp\\ipykernel_18848\\3808578353.py:17: FutureWarning: Series.__getitem__ treating keys as positions is deprecated. In a future version, integer keys will always be treated as labels (consistent with DataFrame behavior). To access a value by position, use `ser.iloc[pos]`\n",
      "  y_train, y_val = y[train_index], y[val_index]\n",
      "C:\\Users\\tomas\\AppData\\Local\\Temp\\ipykernel_18848\\3808578353.py:17: FutureWarning: Series.__getitem__ treating keys as positions is deprecated. In a future version, integer keys will always be treated as labels (consistent with DataFrame behavior). To access a value by position, use `ser.iloc[pos]`\n",
      "  y_train, y_val = y[train_index], y[val_index]\n",
      "C:\\Users\\tomas\\AppData\\Local\\Temp\\ipykernel_18848\\3808578353.py:17: FutureWarning: Series.__getitem__ treating keys as positions is deprecated. In a future version, integer keys will always be treated as labels (consistent with DataFrame behavior). To access a value by position, use `ser.iloc[pos]`\n",
      "  y_train, y_val = y[train_index], y[val_index]\n",
      "C:\\Users\\tomas\\AppData\\Local\\Temp\\ipykernel_18848\\3808578353.py:17: FutureWarning: Series.__getitem__ treating keys as positions is deprecated. In a future version, integer keys will always be treated as labels (consistent with DataFrame behavior). To access a value by position, use `ser.iloc[pos]`\n",
      "  y_train, y_val = y[train_index], y[val_index]\n",
      "C:\\Users\\tomas\\AppData\\Local\\Temp\\ipykernel_18848\\3808578353.py:17: FutureWarning: Series.__getitem__ treating keys as positions is deprecated. In a future version, integer keys will always be treated as labels (consistent with DataFrame behavior). To access a value by position, use `ser.iloc[pos]`\n",
      "  y_train, y_val = y[train_index], y[val_index]\n",
      "C:\\Users\\tomas\\AppData\\Local\\Temp\\ipykernel_18848\\3808578353.py:17: FutureWarning: Series.__getitem__ treating keys as positions is deprecated. In a future version, integer keys will always be treated as labels (consistent with DataFrame behavior). To access a value by position, use `ser.iloc[pos]`\n",
      "  y_train, y_val = y[train_index], y[val_index]\n",
      "C:\\Users\\tomas\\AppData\\Local\\Temp\\ipykernel_18848\\3808578353.py:17: FutureWarning: Series.__getitem__ treating keys as positions is deprecated. In a future version, integer keys will always be treated as labels (consistent with DataFrame behavior). To access a value by position, use `ser.iloc[pos]`\n",
      "  y_train, y_val = y[train_index], y[val_index]\n",
      "C:\\Users\\tomas\\AppData\\Local\\Temp\\ipykernel_18848\\3808578353.py:17: FutureWarning: Series.__getitem__ treating keys as positions is deprecated. In a future version, integer keys will always be treated as labels (consistent with DataFrame behavior). To access a value by position, use `ser.iloc[pos]`\n",
      "  y_train, y_val = y[train_index], y[val_index]\n",
      "C:\\Users\\tomas\\AppData\\Local\\Temp\\ipykernel_18848\\3808578353.py:17: FutureWarning: Series.__getitem__ treating keys as positions is deprecated. In a future version, integer keys will always be treated as labels (consistent with DataFrame behavior). To access a value by position, use `ser.iloc[pos]`\n",
      "  y_train, y_val = y[train_index], y[val_index]\n",
      "C:\\Users\\tomas\\AppData\\Local\\Temp\\ipykernel_18848\\3808578353.py:17: FutureWarning: Series.__getitem__ treating keys as positions is deprecated. In a future version, integer keys will always be treated as labels (consistent with DataFrame behavior). To access a value by position, use `ser.iloc[pos]`\n",
      "  y_train, y_val = y[train_index], y[val_index]\n",
      "C:\\Users\\tomas\\AppData\\Local\\Temp\\ipykernel_18848\\3808578353.py:17: FutureWarning: Series.__getitem__ treating keys as positions is deprecated. In a future version, integer keys will always be treated as labels (consistent with DataFrame behavior). To access a value by position, use `ser.iloc[pos]`\n",
      "  y_train, y_val = y[train_index], y[val_index]\n",
      "C:\\Users\\tomas\\AppData\\Local\\Temp\\ipykernel_18848\\3808578353.py:17: FutureWarning: Series.__getitem__ treating keys as positions is deprecated. In a future version, integer keys will always be treated as labels (consistent with DataFrame behavior). To access a value by position, use `ser.iloc[pos]`\n",
      "  y_train, y_val = y[train_index], y[val_index]\n",
      "C:\\Users\\tomas\\AppData\\Local\\Temp\\ipykernel_18848\\3808578353.py:17: FutureWarning: Series.__getitem__ treating keys as positions is deprecated. In a future version, integer keys will always be treated as labels (consistent with DataFrame behavior). To access a value by position, use `ser.iloc[pos]`\n",
      "  y_train, y_val = y[train_index], y[val_index]\n",
      "C:\\Users\\tomas\\AppData\\Local\\Temp\\ipykernel_18848\\3808578353.py:17: FutureWarning: Series.__getitem__ treating keys as positions is deprecated. In a future version, integer keys will always be treated as labels (consistent with DataFrame behavior). To access a value by position, use `ser.iloc[pos]`\n",
      "  y_train, y_val = y[train_index], y[val_index]\n",
      "C:\\Users\\tomas\\AppData\\Local\\Temp\\ipykernel_18848\\3808578353.py:17: FutureWarning: Series.__getitem__ treating keys as positions is deprecated. In a future version, integer keys will always be treated as labels (consistent with DataFrame behavior). To access a value by position, use `ser.iloc[pos]`\n",
      "  y_train, y_val = y[train_index], y[val_index]\n",
      "C:\\Users\\tomas\\AppData\\Local\\Temp\\ipykernel_18848\\3808578353.py:17: FutureWarning: Series.__getitem__ treating keys as positions is deprecated. In a future version, integer keys will always be treated as labels (consistent with DataFrame behavior). To access a value by position, use `ser.iloc[pos]`\n",
      "  y_train, y_val = y[train_index], y[val_index]\n",
      "C:\\Users\\tomas\\AppData\\Local\\Temp\\ipykernel_18848\\3808578353.py:17: FutureWarning: Series.__getitem__ treating keys as positions is deprecated. In a future version, integer keys will always be treated as labels (consistent with DataFrame behavior). To access a value by position, use `ser.iloc[pos]`\n",
      "  y_train, y_val = y[train_index], y[val_index]\n",
      "C:\\Users\\tomas\\AppData\\Local\\Temp\\ipykernel_18848\\3808578353.py:17: FutureWarning: Series.__getitem__ treating keys as positions is deprecated. In a future version, integer keys will always be treated as labels (consistent with DataFrame behavior). To access a value by position, use `ser.iloc[pos]`\n",
      "  y_train, y_val = y[train_index], y[val_index]\n",
      "C:\\Users\\tomas\\AppData\\Local\\Temp\\ipykernel_18848\\3808578353.py:17: FutureWarning: Series.__getitem__ treating keys as positions is deprecated. In a future version, integer keys will always be treated as labels (consistent with DataFrame behavior). To access a value by position, use `ser.iloc[pos]`\n",
      "  y_train, y_val = y[train_index], y[val_index]\n",
      "C:\\Users\\tomas\\AppData\\Local\\Temp\\ipykernel_18848\\3808578353.py:17: FutureWarning: Series.__getitem__ treating keys as positions is deprecated. In a future version, integer keys will always be treated as labels (consistent with DataFrame behavior). To access a value by position, use `ser.iloc[pos]`\n",
      "  y_train, y_val = y[train_index], y[val_index]\n",
      "C:\\Users\\tomas\\AppData\\Local\\Temp\\ipykernel_18848\\3808578353.py:17: FutureWarning: Series.__getitem__ treating keys as positions is deprecated. In a future version, integer keys will always be treated as labels (consistent with DataFrame behavior). To access a value by position, use `ser.iloc[pos]`\n",
      "  y_train, y_val = y[train_index], y[val_index]\n",
      "C:\\Users\\tomas\\AppData\\Local\\Temp\\ipykernel_18848\\3808578353.py:17: FutureWarning: Series.__getitem__ treating keys as positions is deprecated. In a future version, integer keys will always be treated as labels (consistent with DataFrame behavior). To access a value by position, use `ser.iloc[pos]`\n",
      "  y_train, y_val = y[train_index], y[val_index]\n",
      "C:\\Users\\tomas\\AppData\\Local\\Temp\\ipykernel_18848\\3808578353.py:17: FutureWarning: Series.__getitem__ treating keys as positions is deprecated. In a future version, integer keys will always be treated as labels (consistent with DataFrame behavior). To access a value by position, use `ser.iloc[pos]`\n",
      "  y_train, y_val = y[train_index], y[val_index]\n",
      "C:\\Users\\tomas\\AppData\\Local\\Temp\\ipykernel_18848\\3808578353.py:17: FutureWarning: Series.__getitem__ treating keys as positions is deprecated. In a future version, integer keys will always be treated as labels (consistent with DataFrame behavior). To access a value by position, use `ser.iloc[pos]`\n",
      "  y_train, y_val = y[train_index], y[val_index]\n",
      "C:\\Users\\tomas\\AppData\\Local\\Temp\\ipykernel_18848\\3808578353.py:17: FutureWarning: Series.__getitem__ treating keys as positions is deprecated. In a future version, integer keys will always be treated as labels (consistent with DataFrame behavior). To access a value by position, use `ser.iloc[pos]`\n",
      "  y_train, y_val = y[train_index], y[val_index]\n",
      "C:\\Users\\tomas\\AppData\\Local\\Temp\\ipykernel_18848\\3808578353.py:17: FutureWarning: Series.__getitem__ treating keys as positions is deprecated. In a future version, integer keys will always be treated as labels (consistent with DataFrame behavior). To access a value by position, use `ser.iloc[pos]`\n",
      "  y_train, y_val = y[train_index], y[val_index]\n",
      "C:\\Users\\tomas\\AppData\\Local\\Temp\\ipykernel_18848\\3808578353.py:17: FutureWarning: Series.__getitem__ treating keys as positions is deprecated. In a future version, integer keys will always be treated as labels (consistent with DataFrame behavior). To access a value by position, use `ser.iloc[pos]`\n",
      "  y_train, y_val = y[train_index], y[val_index]\n",
      "C:\\Users\\tomas\\AppData\\Local\\Temp\\ipykernel_18848\\3808578353.py:17: FutureWarning: Series.__getitem__ treating keys as positions is deprecated. In a future version, integer keys will always be treated as labels (consistent with DataFrame behavior). To access a value by position, use `ser.iloc[pos]`\n",
      "  y_train, y_val = y[train_index], y[val_index]\n",
      "C:\\Users\\tomas\\AppData\\Local\\Temp\\ipykernel_18848\\3808578353.py:17: FutureWarning: Series.__getitem__ treating keys as positions is deprecated. In a future version, integer keys will always be treated as labels (consistent with DataFrame behavior). To access a value by position, use `ser.iloc[pos]`\n",
      "  y_train, y_val = y[train_index], y[val_index]\n",
      "C:\\Users\\tomas\\AppData\\Local\\Temp\\ipykernel_18848\\3808578353.py:17: FutureWarning: Series.__getitem__ treating keys as positions is deprecated. In a future version, integer keys will always be treated as labels (consistent with DataFrame behavior). To access a value by position, use `ser.iloc[pos]`\n",
      "  y_train, y_val = y[train_index], y[val_index]\n",
      "C:\\Users\\tomas\\AppData\\Local\\Temp\\ipykernel_18848\\3808578353.py:17: FutureWarning: Series.__getitem__ treating keys as positions is deprecated. In a future version, integer keys will always be treated as labels (consistent with DataFrame behavior). To access a value by position, use `ser.iloc[pos]`\n",
      "  y_train, y_val = y[train_index], y[val_index]\n",
      "C:\\Users\\tomas\\AppData\\Local\\Temp\\ipykernel_18848\\3808578353.py:17: FutureWarning: Series.__getitem__ treating keys as positions is deprecated. In a future version, integer keys will always be treated as labels (consistent with DataFrame behavior). To access a value by position, use `ser.iloc[pos]`\n",
      "  y_train, y_val = y[train_index], y[val_index]\n",
      "C:\\Users\\tomas\\AppData\\Local\\Temp\\ipykernel_18848\\3808578353.py:17: FutureWarning: Series.__getitem__ treating keys as positions is deprecated. In a future version, integer keys will always be treated as labels (consistent with DataFrame behavior). To access a value by position, use `ser.iloc[pos]`\n",
      "  y_train, y_val = y[train_index], y[val_index]\n",
      "C:\\Users\\tomas\\AppData\\Local\\Temp\\ipykernel_18848\\3808578353.py:17: FutureWarning: Series.__getitem__ treating keys as positions is deprecated. In a future version, integer keys will always be treated as labels (consistent with DataFrame behavior). To access a value by position, use `ser.iloc[pos]`\n",
      "  y_train, y_val = y[train_index], y[val_index]\n",
      "C:\\Users\\tomas\\AppData\\Local\\Temp\\ipykernel_18848\\3808578353.py:17: FutureWarning: Series.__getitem__ treating keys as positions is deprecated. In a future version, integer keys will always be treated as labels (consistent with DataFrame behavior). To access a value by position, use `ser.iloc[pos]`\n",
      "  y_train, y_val = y[train_index], y[val_index]\n",
      "C:\\Users\\tomas\\AppData\\Local\\Temp\\ipykernel_18848\\3808578353.py:17: FutureWarning: Series.__getitem__ treating keys as positions is deprecated. In a future version, integer keys will always be treated as labels (consistent with DataFrame behavior). To access a value by position, use `ser.iloc[pos]`\n",
      "  y_train, y_val = y[train_index], y[val_index]\n",
      "C:\\Users\\tomas\\AppData\\Local\\Temp\\ipykernel_18848\\3808578353.py:17: FutureWarning: Series.__getitem__ treating keys as positions is deprecated. In a future version, integer keys will always be treated as labels (consistent with DataFrame behavior). To access a value by position, use `ser.iloc[pos]`\n",
      "  y_train, y_val = y[train_index], y[val_index]\n",
      "C:\\Users\\tomas\\AppData\\Local\\Temp\\ipykernel_18848\\3808578353.py:17: FutureWarning: Series.__getitem__ treating keys as positions is deprecated. In a future version, integer keys will always be treated as labels (consistent with DataFrame behavior). To access a value by position, use `ser.iloc[pos]`\n",
      "  y_train, y_val = y[train_index], y[val_index]\n",
      "C:\\Users\\tomas\\AppData\\Local\\Temp\\ipykernel_18848\\3808578353.py:17: FutureWarning: Series.__getitem__ treating keys as positions is deprecated. In a future version, integer keys will always be treated as labels (consistent with DataFrame behavior). To access a value by position, use `ser.iloc[pos]`\n",
      "  y_train, y_val = y[train_index], y[val_index]\n",
      "C:\\Users\\tomas\\AppData\\Local\\Temp\\ipykernel_18848\\3808578353.py:17: FutureWarning: Series.__getitem__ treating keys as positions is deprecated. In a future version, integer keys will always be treated as labels (consistent with DataFrame behavior). To access a value by position, use `ser.iloc[pos]`\n",
      "  y_train, y_val = y[train_index], y[val_index]\n",
      "C:\\Users\\tomas\\AppData\\Local\\Temp\\ipykernel_18848\\3808578353.py:17: FutureWarning: Series.__getitem__ treating keys as positions is deprecated. In a future version, integer keys will always be treated as labels (consistent with DataFrame behavior). To access a value by position, use `ser.iloc[pos]`\n",
      "  y_train, y_val = y[train_index], y[val_index]\n",
      "C:\\Users\\tomas\\AppData\\Local\\Temp\\ipykernel_18848\\3808578353.py:17: FutureWarning: Series.__getitem__ treating keys as positions is deprecated. In a future version, integer keys will always be treated as labels (consistent with DataFrame behavior). To access a value by position, use `ser.iloc[pos]`\n",
      "  y_train, y_val = y[train_index], y[val_index]\n",
      "C:\\Users\\tomas\\AppData\\Local\\Temp\\ipykernel_18848\\3808578353.py:17: FutureWarning: Series.__getitem__ treating keys as positions is deprecated. In a future version, integer keys will always be treated as labels (consistent with DataFrame behavior). To access a value by position, use `ser.iloc[pos]`\n",
      "  y_train, y_val = y[train_index], y[val_index]\n",
      "C:\\Users\\tomas\\AppData\\Local\\Temp\\ipykernel_18848\\3808578353.py:17: FutureWarning: Series.__getitem__ treating keys as positions is deprecated. In a future version, integer keys will always be treated as labels (consistent with DataFrame behavior). To access a value by position, use `ser.iloc[pos]`\n",
      "  y_train, y_val = y[train_index], y[val_index]\n",
      "C:\\Users\\tomas\\AppData\\Local\\Temp\\ipykernel_18848\\3808578353.py:17: FutureWarning: Series.__getitem__ treating keys as positions is deprecated. In a future version, integer keys will always be treated as labels (consistent with DataFrame behavior). To access a value by position, use `ser.iloc[pos]`\n",
      "  y_train, y_val = y[train_index], y[val_index]\n",
      "C:\\Users\\tomas\\AppData\\Local\\Temp\\ipykernel_18848\\3808578353.py:17: FutureWarning: Series.__getitem__ treating keys as positions is deprecated. In a future version, integer keys will always be treated as labels (consistent with DataFrame behavior). To access a value by position, use `ser.iloc[pos]`\n",
      "  y_train, y_val = y[train_index], y[val_index]\n"
     ]
    },
    {
     "data": {
      "text/html": [
       "<div>\n",
       "<style scoped>\n",
       "    .dataframe tbody tr th:only-of-type {\n",
       "        vertical-align: middle;\n",
       "    }\n",
       "\n",
       "    .dataframe tbody tr th {\n",
       "        vertical-align: top;\n",
       "    }\n",
       "\n",
       "    .dataframe thead th {\n",
       "        text-align: right;\n",
       "    }\n",
       "</style>\n",
       "<table border=\"1\" class=\"dataframe\">\n",
       "  <thead>\n",
       "    <tr style=\"text-align: right;\">\n",
       "      <th></th>\n",
       "      <th>grado</th>\n",
       "      <th>particion</th>\n",
       "      <th>ecm</th>\n",
       "    </tr>\n",
       "  </thead>\n",
       "  <tbody>\n",
       "    <tr>\n",
       "      <th>0</th>\n",
       "      <td>2</td>\n",
       "      <td>0</td>\n",
       "      <td>16.16</td>\n",
       "    </tr>\n",
       "    <tr>\n",
       "      <th>0</th>\n",
       "      <td>2</td>\n",
       "      <td>1</td>\n",
       "      <td>18.19</td>\n",
       "    </tr>\n",
       "    <tr>\n",
       "      <th>0</th>\n",
       "      <td>2</td>\n",
       "      <td>2</td>\n",
       "      <td>29.59</td>\n",
       "    </tr>\n",
       "    <tr>\n",
       "      <th>0</th>\n",
       "      <td>2</td>\n",
       "      <td>3</td>\n",
       "      <td>16.56</td>\n",
       "    </tr>\n",
       "    <tr>\n",
       "      <th>0</th>\n",
       "      <td>2</td>\n",
       "      <td>4</td>\n",
       "      <td>21.47</td>\n",
       "    </tr>\n",
       "    <tr>\n",
       "      <th>...</th>\n",
       "      <td>...</td>\n",
       "      <td>...</td>\n",
       "      <td>...</td>\n",
       "    </tr>\n",
       "    <tr>\n",
       "      <th>0</th>\n",
       "      <td>9</td>\n",
       "      <td>5</td>\n",
       "      <td>24.95</td>\n",
       "    </tr>\n",
       "    <tr>\n",
       "      <th>0</th>\n",
       "      <td>9</td>\n",
       "      <td>6</td>\n",
       "      <td>22.46</td>\n",
       "    </tr>\n",
       "    <tr>\n",
       "      <th>0</th>\n",
       "      <td>9</td>\n",
       "      <td>7</td>\n",
       "      <td>14.39</td>\n",
       "    </tr>\n",
       "    <tr>\n",
       "      <th>0</th>\n",
       "      <td>9</td>\n",
       "      <td>8</td>\n",
       "      <td>9.91</td>\n",
       "    </tr>\n",
       "    <tr>\n",
       "      <th>0</th>\n",
       "      <td>9</td>\n",
       "      <td>9</td>\n",
       "      <td>17.48</td>\n",
       "    </tr>\n",
       "  </tbody>\n",
       "</table>\n",
       "<p>80 rows × 3 columns</p>\n",
       "</div>"
      ],
      "text/plain": [
       "    grado  particion   ecm\n",
       "0       2          0 16.16\n",
       "0       2          1 18.19\n",
       "0       2          2 29.59\n",
       "0       2          3 16.56\n",
       "0       2          4 21.47\n",
       "..    ...        ...   ...\n",
       "0       9          5 24.95\n",
       "0       9          6 22.46\n",
       "0       9          7 14.39\n",
       "0       9          8  9.91\n",
       "0       9          9 17.48\n",
       "\n",
       "[80 rows x 3 columns]"
      ]
     },
     "execution_count": 31,
     "metadata": {},
     "output_type": "execute_result"
    }
   ],
   "source": [
    "K = 10\n",
    "\n",
    "for grado in range(2, 10):   \n",
    "\n",
    "    kf = KFold(n_splits=K, shuffle=True, random_state=100)\n",
    "    \n",
    "    # El método kf.split aplicado a X nos da los conjuntos de índices que necesitamos para\n",
    "    # partir nuestros conjunto de datos en training y testing en cada iteración.\n",
    "    #  OXXXX\n",
    "    #  XOXXX\n",
    "    #  XXOXX\n",
    "    #  XXXOX\n",
    "    #  XXXXO\n",
    "    \n",
    "    for i, (train_index, val_index) in enumerate(kf.split(X)):   \n",
    "        x_train, x_val = X[train_index], X[val_index]\n",
    "        y_train, y_val = y[train_index], y[val_index]\n",
    "        #print(i, x_train.shape[0])\n",
    "        \n",
    "        ecm = transf_reg_poly(grado, x_train, x_val, y_train, y_val)[1]\n",
    "            \n",
    "        df_i = pd.DataFrame({\"grado\": grado, \"particion\": i, \"ecm\": ecm}, index=[0])\n",
    "        ecms = pd.concat([ecms, df_i])\n",
    "    \n",
    "mses = ecms.astype({\"grado\":int, \"particion\":int})\n",
    "mses"
   ]
  },
  {
   "cell_type": "markdown",
   "metadata": {},
   "source": [
    "Una corrección para no contaminar los datos..."
   ]
  },
  {
   "cell_type": "code",
   "execution_count": 32,
   "metadata": {},
   "outputs": [
    {
     "name": "stdout",
     "output_type": "stream",
     "text": [
      "<class 'numpy.ndarray'> <class 'pandas.core.series.Series'>\n",
      "(274, 1) (274,)\n"
     ]
    }
   ],
   "source": [
    "X_train, X_test, y_train, y_test = train_test_split(X, y, test_size = 0.3, random_state = 50)\n",
    "print(type(X_train), type(y_train))\n",
    "print(X_train.shape, y_train.shape)\n",
    "#print(X_train, y_train)"
   ]
  },
  {
   "cell_type": "code",
   "execution_count": 34,
   "metadata": {
    "id": "ktqljY-fV2Cz",
    "scrolled": true
   },
   "outputs": [
    {
     "data": {
      "text/html": [
       "<div>\n",
       "<style scoped>\n",
       "    .dataframe tbody tr th:only-of-type {\n",
       "        vertical-align: middle;\n",
       "    }\n",
       "\n",
       "    .dataframe tbody tr th {\n",
       "        vertical-align: top;\n",
       "    }\n",
       "\n",
       "    .dataframe thead th {\n",
       "        text-align: right;\n",
       "    }\n",
       "</style>\n",
       "<table border=\"1\" class=\"dataframe\">\n",
       "  <thead>\n",
       "    <tr style=\"text-align: right;\">\n",
       "      <th></th>\n",
       "      <th>grado</th>\n",
       "      <th>particion</th>\n",
       "      <th>ecm</th>\n",
       "    </tr>\n",
       "  </thead>\n",
       "  <tbody>\n",
       "    <tr>\n",
       "      <th>0</th>\n",
       "      <td>2</td>\n",
       "      <td>0</td>\n",
       "      <td>16.16</td>\n",
       "    </tr>\n",
       "    <tr>\n",
       "      <th>0</th>\n",
       "      <td>2</td>\n",
       "      <td>1</td>\n",
       "      <td>18.19</td>\n",
       "    </tr>\n",
       "    <tr>\n",
       "      <th>0</th>\n",
       "      <td>2</td>\n",
       "      <td>2</td>\n",
       "      <td>29.59</td>\n",
       "    </tr>\n",
       "    <tr>\n",
       "      <th>0</th>\n",
       "      <td>2</td>\n",
       "      <td>3</td>\n",
       "      <td>16.56</td>\n",
       "    </tr>\n",
       "    <tr>\n",
       "      <th>0</th>\n",
       "      <td>2</td>\n",
       "      <td>4</td>\n",
       "      <td>21.47</td>\n",
       "    </tr>\n",
       "    <tr>\n",
       "      <th>...</th>\n",
       "      <td>...</td>\n",
       "      <td>...</td>\n",
       "      <td>...</td>\n",
       "    </tr>\n",
       "    <tr>\n",
       "      <th>0</th>\n",
       "      <td>9</td>\n",
       "      <td>6</td>\n",
       "      <td>22.46</td>\n",
       "    </tr>\n",
       "    <tr>\n",
       "      <th>0</th>\n",
       "      <td>9</td>\n",
       "      <td>7</td>\n",
       "      <td>14.39</td>\n",
       "    </tr>\n",
       "    <tr>\n",
       "      <th>0</th>\n",
       "      <td>9</td>\n",
       "      <td>8</td>\n",
       "      <td>9.91</td>\n",
       "    </tr>\n",
       "    <tr>\n",
       "      <th>0</th>\n",
       "      <td>9</td>\n",
       "      <td>9</td>\n",
       "      <td>17.48</td>\n",
       "    </tr>\n",
       "    <tr>\n",
       "      <th>0</th>\n",
       "      <td>9</td>\n",
       "      <td>9</td>\n",
       "      <td>17.48</td>\n",
       "    </tr>\n",
       "  </tbody>\n",
       "</table>\n",
       "<p>81 rows × 3 columns</p>\n",
       "</div>"
      ],
      "text/plain": [
       "    grado  particion   ecm\n",
       "0       2          0 16.16\n",
       "0       2          1 18.19\n",
       "0       2          2 29.59\n",
       "0       2          3 16.56\n",
       "0       2          4 21.47\n",
       "..    ...        ...   ...\n",
       "0       9          6 22.46\n",
       "0       9          7 14.39\n",
       "0       9          8  9.91\n",
       "0       9          9 17.48\n",
       "0       9          9 17.48\n",
       "\n",
       "[81 rows x 3 columns]"
      ]
     },
     "execution_count": 34,
     "metadata": {},
     "output_type": "execute_result"
    }
   ],
   "source": [
    "mses = pd.DataFrame(columns=[\"grado\", \"particion\", \"ecm\"])\n",
    "mses\n",
    "\n",
    "K = 10\n",
    "\n",
    "for grado in range(1, 10):   \n",
    "\n",
    "    kf = KFold(n_splits=K, shuffle=True, random_state=100)\n",
    "    \n",
    "    # El método kf.split aplicado a X nos da los conjuntos de índices que necesitamos para\n",
    "    # partir nuestros conjunto de datos en training y testing en cada iteración.\n",
    "    #  OXXXX\n",
    "    #  XOXXX\n",
    "    #  XXOXX\n",
    "    #  XXXOX\n",
    "    #  XXXXO\n",
    "    \n",
    "    for i, (train_index2, val_index2) in enumerate(kf.split(X_train)):\n",
    "        X_train_fold, X_val_fold = X_train[train_index2], X_train[val_index2]\n",
    "        y_train_fold, y_val_fold = y_train.iloc[train_index2], y_train.iloc[val_index2]\n",
    "        #print(i, X_train_fold.shape[0])\n",
    "        \n",
    "        mse = transf_reg_poly(grado, X_train_fold, X_val_fold, y_train_fold, y_val_fold)[1]\n",
    "            \n",
    "        df_i = pd.DataFrame({\"grado\": grado, \"particion\": i, \"ecm\": ecm}, index=[0])\n",
    "        mses = pd.concat([ecms, df_i])\n",
    "    \n",
    "mses = mses.astype({\"grado\":int, \"particion\":int})\n",
    "mses"
   ]
  },
  {
   "cell_type": "markdown",
   "metadata": {},
   "source": [
    "#### Cómo elegir el modelo?"
   ]
  },
  {
   "cell_type": "code",
   "execution_count": 35,
   "metadata": {
    "id": "ThaTPH93V2C0"
   },
   "outputs": [
    {
     "data": {
      "image/png": "[encoded data removed]",
      "text/plain": [
       "<Figure size 640x480 with 1 Axes>"
      ]
     },
     "metadata": {},
     "output_type": "display_data"
    }
   ],
   "source": [
    "# Una opción: visualizar los ECMs en un boxplot\n",
    "import seaborn as sns\n",
    "sns.set()\n",
    "ss = sns.boxplot(data=ecms, x=\"grado\", y=\"ecm\")\n"
   ]
  },
  {
   "cell_type": "code",
   "execution_count": 36,
   "metadata": {},
   "outputs": [
    {
     "data": {
      "text/html": [
       "<div>\n",
       "<style scoped>\n",
       "    .dataframe tbody tr th:only-of-type {\n",
       "        vertical-align: middle;\n",
       "    }\n",
       "\n",
       "    .dataframe tbody tr th {\n",
       "        vertical-align: top;\n",
       "    }\n",
       "\n",
       "    .dataframe thead th {\n",
       "        text-align: right;\n",
       "    }\n",
       "</style>\n",
       "<table border=\"1\" class=\"dataframe\">\n",
       "  <thead>\n",
       "    <tr style=\"text-align: right;\">\n",
       "      <th></th>\n",
       "      <th>grado</th>\n",
       "      <th>particion</th>\n",
       "      <th>ecm</th>\n",
       "    </tr>\n",
       "  </thead>\n",
       "  <tbody>\n",
       "    <tr>\n",
       "      <th>count</th>\n",
       "      <td>81.00</td>\n",
       "      <td>81.00</td>\n",
       "      <td>81.00</td>\n",
       "    </tr>\n",
       "    <tr>\n",
       "      <th>mean</th>\n",
       "      <td>5.54</td>\n",
       "      <td>4.56</td>\n",
       "      <td>19.25</td>\n",
       "    </tr>\n",
       "    <tr>\n",
       "      <th>std</th>\n",
       "      <td>2.32</td>\n",
       "      <td>2.92</td>\n",
       "      <td>5.51</td>\n",
       "    </tr>\n",
       "    <tr>\n",
       "      <th>min</th>\n",
       "      <td>2.00</td>\n",
       "      <td>0.00</td>\n",
       "      <td>9.66</td>\n",
       "    </tr>\n",
       "    <tr>\n",
       "      <th>25%</th>\n",
       "      <td>4.00</td>\n",
       "      <td>2.00</td>\n",
       "      <td>15.96</td>\n",
       "    </tr>\n",
       "    <tr>\n",
       "      <th>50%</th>\n",
       "      <td>6.00</td>\n",
       "      <td>5.00</td>\n",
       "      <td>17.78</td>\n",
       "    </tr>\n",
       "    <tr>\n",
       "      <th>75%</th>\n",
       "      <td>8.00</td>\n",
       "      <td>7.00</td>\n",
       "      <td>22.67</td>\n",
       "    </tr>\n",
       "    <tr>\n",
       "      <th>max</th>\n",
       "      <td>9.00</td>\n",
       "      <td>9.00</td>\n",
       "      <td>30.53</td>\n",
       "    </tr>\n",
       "  </tbody>\n",
       "</table>\n",
       "</div>"
      ],
      "text/plain": [
       "       grado  particion   ecm\n",
       "count  81.00      81.00 81.00\n",
       "mean    5.54       4.56 19.25\n",
       "std     2.32       2.92  5.51\n",
       "min     2.00       0.00  9.66\n",
       "25%     4.00       2.00 15.96\n",
       "50%     6.00       5.00 17.78\n",
       "75%     8.00       7.00 22.67\n",
       "max     9.00       9.00 30.53"
      ]
     },
     "execution_count": 36,
     "metadata": {},
     "output_type": "execute_result"
    }
   ],
   "source": [
    "mses.describe()"
   ]
  },
  {
   "cell_type": "code",
   "execution_count": 37,
   "metadata": {
    "id": "BJJix54xV2C0"
   },
   "outputs": [
    {
     "data": {
      "text/html": [
       "<div>\n",
       "<style scoped>\n",
       "    .dataframe tbody tr th:only-of-type {\n",
       "        vertical-align: middle;\n",
       "    }\n",
       "\n",
       "    .dataframe tbody tr th {\n",
       "        vertical-align: top;\n",
       "    }\n",
       "\n",
       "    .dataframe thead th {\n",
       "        text-align: right;\n",
       "    }\n",
       "</style>\n",
       "<table border=\"1\" class=\"dataframe\">\n",
       "  <thead>\n",
       "    <tr style=\"text-align: right;\">\n",
       "      <th></th>\n",
       "      <th>grado</th>\n",
       "      <th>ecm</th>\n",
       "    </tr>\n",
       "  </thead>\n",
       "  <tbody>\n",
       "    <tr>\n",
       "      <th>0</th>\n",
       "      <td>2</td>\n",
       "      <td>19.29</td>\n",
       "    </tr>\n",
       "    <tr>\n",
       "      <th>1</th>\n",
       "      <td>3</td>\n",
       "      <td>19.44</td>\n",
       "    </tr>\n",
       "    <tr>\n",
       "      <th>2</th>\n",
       "      <td>4</td>\n",
       "      <td>19.54</td>\n",
       "    </tr>\n",
       "    <tr>\n",
       "      <th>3</th>\n",
       "      <td>5</td>\n",
       "      <td>19.07</td>\n",
       "    </tr>\n",
       "    <tr>\n",
       "      <th>4</th>\n",
       "      <td>6</td>\n",
       "      <td>19.27</td>\n",
       "    </tr>\n",
       "    <tr>\n",
       "      <th>5</th>\n",
       "      <td>7</td>\n",
       "      <td>19.27</td>\n",
       "    </tr>\n",
       "    <tr>\n",
       "      <th>6</th>\n",
       "      <td>8</td>\n",
       "      <td>19.09</td>\n",
       "    </tr>\n",
       "    <tr>\n",
       "      <th>7</th>\n",
       "      <td>9</td>\n",
       "      <td>19.17</td>\n",
       "    </tr>\n",
       "  </tbody>\n",
       "</table>\n",
       "</div>"
      ],
      "text/plain": [
       "   grado   ecm\n",
       "0      2 19.29\n",
       "1      3 19.44\n",
       "2      4 19.54\n",
       "3      5 19.07\n",
       "4      6 19.27\n",
       "5      7 19.27\n",
       "6      8 19.09\n",
       "7      9 19.17"
      ]
     },
     "execution_count": 37,
     "metadata": {},
     "output_type": "execute_result"
    }
   ],
   "source": [
    "# Una opción para ver el mejor modelo sería sacar el error promedio para cada grado:\n",
    "mses_avg = ecms.groupby('grado').agg({'ecm':'mean'})\n",
    "mses_avg.reset_index(inplace = True)\n",
    "mses_avg.astype({\"grado\":int})\n",
    "mses_avg"
   ]
  },
  {
   "cell_type": "code",
   "execution_count": 38,
   "metadata": {},
   "outputs": [],
   "source": [
    "# Tarea para la casa: hacer grafico de puntos conectados como el libro (slide 25 panel de la izquierda-clase13)"
   ]
  },
  {
   "cell_type": "code",
   "execution_count": 41,
   "metadata": {
    "id": "lr5xl6PxV2C0"
   },
   "outputs": [
    {
     "name": "stdout",
     "output_type": "stream",
     "text": [
      "El mínimo error es 19.07 y se da con un polinomio de grado 5\n"
     ]
    }
   ],
   "source": [
    "# Función para seleccionar \n",
    "min_mse = np.inf\n",
    "grado = None\n",
    "\n",
    "for index, row in mses_avg.iterrows():\n",
    "    if row['ecm'] < min_mse:\n",
    "        min_mse = row['ecm']\n",
    "        grado = row['grado'].astype(int)\n",
    "\n",
    "print('El mínimo error es', round(min_mse, 2), 'y se da con un polinomio de grado', grado)"
   ]
  },
  {
   "cell_type": "code",
   "execution_count": 42,
   "metadata": {
    "id": "O14qkQTSV2C0"
   },
   "outputs": [
    {
     "data": {
      "image/png": "[encoded data removed]",
      "text/plain": [
       "<Figure size 640x480 with 1 Axes>"
      ]
     },
     "metadata": {},
     "output_type": "display_data"
    },
    {
     "data": {
      "text/plain": [
       "14.653571750218658"
      ]
     },
     "execution_count": 42,
     "metadata": {},
     "output_type": "execute_result"
    }
   ],
   "source": [
    "# Finalmente construimos el modelo polinomial de grado 5 y lo graficamos \n",
    "x_train, x_test, y_train, y_test = train_test_split(X, y, test_size = 0.3, random_state = 50)\n",
    "\n",
    "modelo = transf_reg_poly(grado, x_train, x_test, y_train, y_test)[0]\n",
    "mse = transf_reg_poly(grado, x_train, x_test, y_train, y_test)[1]\n",
    "        \n",
    "X_seq = np.linspace(X.min(), X.max()).reshape(-1,1)\n",
    "poly = PolynomialFeatures(degree = grado, include_bias=False) \n",
    "X_seq_poly = poly.fit_transform(X_seq)  \n",
    "\n",
    "x_test_poly = poly.fit_transform(x_test)  \n",
    "y_pred_poly = modelo.predict(x_test_poly)\n",
    "mse_test_final = mean_squared_error(y_test, y_pred_poly)\n",
    "\n",
    "plt.figure()\n",
    "plt.scatter(x_train, y_train)\n",
    "plt.plot(X_seq, modelo.predict(X_seq_poly),color=\"red\")\n",
    "plt.xlabel('Caballos del motor (horsepower)')\n",
    "plt.ylabel('Millas por galón (mpg)')\n",
    "plt.title(\"Polinomio elegido de grado por CV {}\".format(grado))\n",
    "plt.show()\n",
    "\n",
    "mse_test_final"
   ]
  },
  {
   "cell_type": "code",
   "execution_count": null,
   "metadata": {},
   "outputs": [],
   "source": []
  }
 ],
 "metadata": {
  "colab": {
   "name": "Tutorial 8.ipynb",
   "provenance": []
  },
  "kernelspec": {
   "display_name": "Python 3 (ipykernel)",
   "language": "python",
   "name": "python3"
  },
  "language_info": {
   "codemirror_mode": {
    "name": "ipython",
    "version": 3
   },
   "file_extension": ".py",
   "mimetype": "text/x-python",
   "name": "python",
   "nbconvert_exporter": "python",
   "pygments_lexer": "ipython3",
   "version": "3.13.5"
  }
 },
 "nbformat": 4,
 "nbformat_minor": 4
}
